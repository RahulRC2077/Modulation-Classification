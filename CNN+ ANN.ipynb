{
  "nbformat": 4,
  "nbformat_minor": 0,
  "metadata": {
    "colab": {
      "provenance": []
    },
    "language_info": {
      "codemirror_mode": {
        "name": "ipython",
        "version": 3
      },
      "file_extension": ".py",
      "mimetype": "text/x-python",
      "name": "python",
      "nbconvert_exporter": "python",
      "pygments_lexer": "ipython3",
      "version": "3.6.4"
    },
    "kernelspec": {
      "name": "python3",
      "display_name": "Python 3"
    },
    "gpuClass": "standard"
  },
  "cells": [
    {
      "cell_type": "code",
      "source": [
        "!pip install bz2file"
      ],
      "metadata": {
        "colab": {
          "base_uri": "https://localhost:8080/"
        },
        "id": "LEN5hKu3XNoc",
        "outputId": "c7274cf1-7072-4ee0-ab8b-ea743bac6cc1"
      },
      "execution_count": null,
      "outputs": [
        {
          "output_type": "stream",
          "name": "stdout",
          "text": [
            "Looking in indexes: https://pypi.org/simple, https://us-python.pkg.dev/colab-wheels/public/simple/\n",
            "Collecting bz2file\n",
            "  Downloading bz2file-0.98.tar.gz (11 kB)\n",
            "  Preparing metadata (setup.py) ... \u001b[?25l\u001b[?25hdone\n",
            "Building wheels for collected packages: bz2file\n",
            "  Building wheel for bz2file (setup.py) ... \u001b[?25l\u001b[?25hdone\n",
            "  Created wheel for bz2file: filename=bz2file-0.98-py3-none-any.whl size=6881 sha256=7c73f250e8a768f26b309b0486a449734d51b444e891707d4cc27cde89b2971b\n",
            "  Stored in directory: /root/.cache/pip/wheels/69/ee/f7/6fccd10cb65421ba2da64fa6caf8ee7fbae0059884af8c8587\n",
            "Successfully built bz2file\n",
            "Installing collected packages: bz2file\n",
            "Successfully installed bz2file-0.98\n"
          ]
        }
      ]
    },
    {
      "cell_type": "code",
      "metadata": {
        "id": "FNYr1At6z_QP"
      },
      "source": [
        "from sklearn.preprocessing import LabelBinarizer as LB\n",
        "from sklearn.preprocessing import normalize \n",
        "from sklearn.metrics import confusion_matrix\n",
        "from sklearn.metrics import accuracy_score\n",
        "# --------------------\n",
        "from keras.layers.convolutional import Conv2D, ZeroPadding2D\n",
        "from keras.layers.core import Reshape, Flatten, Dropout\n",
        "from keras.callbacks import EarlyStopping\n",
        "from keras.models import Sequential\n",
        "from keras.models import load_model\n",
        "from keras.layers import Dense\n",
        "from keras import metrics\n",
        "# --------------------\n",
        "from pandas import DataFrame as df\n",
        "# --------------------\n",
        "import matplotlib.pyplot as plt\n",
        "import tensorflow as tf\n",
        "import numpy as np\n",
        "# --------------------\n",
        "import tarfile\n",
        "import pickle\n",
        "import random\n",
        "import keras\n",
        "import sys\n",
        "import gc\n",
        "import bz2file as bz2\n",
        "import pickle\n"
      ],
      "execution_count": null,
      "outputs": []
    },
    {
      "cell_type": "code",
      "source": [
        "from google.colab import drive\n",
        "drive.mount('/content/drive')"
      ],
      "metadata": {
        "colab": {
          "base_uri": "https://localhost:8080/"
        },
        "id": "69y_Evf_WeBp",
        "outputId": "7821005d-02d2-4915-c33f-a57fefa1f83e"
      },
      "execution_count": null,
      "outputs": [
        {
          "output_type": "stream",
          "name": "stdout",
          "text": [
            "Mounted at /content/drive\n"
          ]
        }
      ]
    },
    {
      "cell_type": "code",
      "metadata": {
        "id": "6wEh_j9A-36T",
        "outputId": "58fe515f-bb78-4312-83d8-c837cd3752a7",
        "colab": {
          "base_uri": "https://localhost:8080/"
        }
      },
      "source": [
        "\n",
        "!tar -xvf /content/drive/MyDrive/RML2016.10b.bz2 -C /content/drive/MyDrive/"
      ],
      "execution_count": null,
      "outputs": [
        {
          "output_type": "stream",
          "name": "stdout",
          "text": [
            "RML2016.10b.dat\n",
            "LICENSE.TXT\n"
          ]
        }
      ]
    },
    {
      "cell_type": "code",
      "metadata": {
        "id": "aAUjInDf0M4c"
      },
      "source": [
        "file = open(\"/content/drive/MyDrive/RML2016.10b.dat\",'rb')\n",
        "Xd = pickle.load(file, encoding = 'bytes')\n",
        "snrs, mods = map(lambda j: sorted(list(set(map(lambda x: x[j], Xd.keys())))), [1,0])\n",
        "X = [] \n",
        "lbl = []\n",
        "for mod in mods:\n",
        "    for snr in snrs:\n",
        "        X.append(Xd[(mod,snr)])\n",
        "        for i in range(Xd[(mod,snr)].shape[0]):  lbl.append((mod,snr))\n",
        "X = np.vstack(X)\n",
        "file.close()"
      ],
      "execution_count": null,
      "outputs": []
    },
    {
      "cell_type": "markdown",
      "metadata": {
        "id": "0Q3EMKoJ-4v6"
      },
      "source": [
        "## Create Features Space"
      ]
    },
    {
      "cell_type": "code",
      "metadata": {
        "id": "JygL40Bo_iNV"
      },
      "source": [
        "features = {}"
      ],
      "execution_count": null,
      "outputs": []
    },
    {
      "cell_type": "markdown",
      "metadata": {
        "id": "ek7kJ8xR_WOy"
      },
      "source": [
        "**Raw Time Feature**"
      ]
    },
    {
      "cell_type": "code",
      "metadata": {
        "id": "L0hE1Y_PP-QQ"
      },
      "source": [
        "features['raw']        = X[:,0], X[:,1]"
      ],
      "execution_count": null,
      "outputs": []
    },
    {
      "cell_type": "markdown",
      "metadata": {
        "id": "pKkXenUh_Z9m"
      },
      "source": [
        "**First derivative in time**"
      ]
    },
    {
      "cell_type": "code",
      "metadata": {
        "id": "CiGPAY7s_OOe"
      },
      "source": [
        "features['derivative'] = normalize(np.gradient(X[:,0], axis = 1)), normalize(np.gradient(X[:,1], axis = 1))"
      ],
      "execution_count": null,
      "outputs": []
    },
    {
      "cell_type": "markdown",
      "metadata": {
        "id": "wGyS6ZD7_ff2"
      },
      "source": [
        "**Integral in time**"
      ]
    },
    {
      "cell_type": "code",
      "metadata": {
        "id": "0Jc15J5r_OfX"
      },
      "source": [
        "features['integral']   = normalize(np.cumsum(X[:,0], axis = 1)), normalize(np.cumsum(X[:,1], axis = 1))"
      ],
      "execution_count": null,
      "outputs": []
    },
    {
      "cell_type": "markdown",
      "metadata": {
        "id": "OvGETT-I_jAQ"
      },
      "source": [
        "**All Togetheer Feature Space**"
      ]
    },
    {
      "cell_type": "code",
      "metadata": {
        "id": "WDuvdmZo4CDR"
      },
      "source": [
        "def extract_features(*arguments):\n",
        "    \n",
        "    desired = ()            \n",
        "    for arg in arguments:\n",
        "        desired += features[arg]\n",
        "    \n",
        "    return np.stack(desired, axis = 1)"
      ],
      "execution_count": null,
      "outputs": []
    },
    {
      "cell_type": "markdown",
      "metadata": {
        "id": "wfnBc-rxCyQZ"
      },
      "source": [
        "## Train and Test Data Split"
      ]
    },
    {
      "cell_type": "markdown",
      "metadata": {
        "id": "YlJR6RczgdWm"
      },
      "source": [
        "** features Choice **"
      ]
    },
    {
      "cell_type": "code",
      "metadata": {
        "id": "VYkv4lQuDR2F"
      },
      "source": [
        "data = extract_features('raw')\n",
        "labels = np.array(lbl)"
      ],
      "execution_count": null,
      "outputs": []
    },
    {
      "cell_type": "code",
      "metadata": {
        "id": "e-oc9F5TKs4-"
      },
      "source": [
        "in_shape = data[0].shape\n",
        "out_shape = tuple([1]) + in_shape"
      ],
      "execution_count": null,
      "outputs": []
    },
    {
      "cell_type": "markdown",
      "metadata": {
        "id": "wUZmyeIEglDy"
      },
      "source": [
        "** data shuffling & splitting **"
      ]
    },
    {
      "cell_type": "code",
      "metadata": {
        "id": "qtUPPE4KKs45"
      },
      "source": [
        "np.random.seed(10)\n",
        "\n",
        "n_examples = labels.shape[0]\n",
        "\n",
        "r = np.random.choice(range(n_examples), n_examples, replace = False)\n",
        "\n",
        "train_examples = r[:n_examples//2]\n",
        "test_examples =  r[n_examples//2:]"
      ],
      "execution_count": null,
      "outputs": []
    },
    {
      "cell_type": "code",
      "metadata": {
        "id": "V-gyBJhwKs47"
      },
      "source": [
        "X_train = data[train_examples]\n",
        "X_test = data[test_examples]\n",
        "\n",
        "y_train = LB().fit_transform(labels[train_examples][:,0])\n",
        "y_test = LB().fit_transform(labels[test_examples][:,0])\n",
        "\n",
        "snr_train = labels[train_examples][:,1].astype(int)\n",
        "snr_test = labels[test_examples][:,1].astype(int)"
      ],
      "execution_count": null,
      "outputs": []
    },
    {
      "cell_type": "markdown",
      "metadata": {
        "id": "wQ-_55WYBK84"
      },
      "source": [
        "## Model for Fully Connected Nueral Networks"
      ]
    },
    {
      "cell_type": "code",
      "metadata": {
        "id": "PG7uZfW5BReR"
      },
      "source": [
        "model = Sequential()\n",
        "model.add(Dense(128, activation ='relu', input_shape = in_shape))\n",
        "model.add(Dense(256, activation ='relu'))\n",
        "model.add(Dense(128, activation ='relu'))\n",
        "model.add(Flatten())\n",
        "model.add(Dense(10, activation ='softmax'))"
      ],
      "execution_count": null,
      "outputs": []
    },
    {
      "cell_type": "code",
      "metadata": {
        "id": "dD6IMRuVDrNw",
        "outputId": "2de18ca4-a141-40c2-c157-bee549bd060b",
        "colab": {
          "base_uri": "https://localhost:8080/"
        }
      },
      "source": [
        "model.compile(optimizer = 'adam', loss = 'categorical_crossentropy',  metrics = ['accuracy'])\n",
        "model.summary()"
      ],
      "execution_count": null,
      "outputs": [
        {
          "output_type": "stream",
          "name": "stdout",
          "text": [
            "Model: \"sequential\"\n",
            "_________________________________________________________________\n",
            " Layer (type)                Output Shape              Param #   \n",
            "=================================================================\n",
            " dense (Dense)               (None, 2, 128)            16512     \n",
            "                                                                 \n",
            " dense_1 (Dense)             (None, 2, 256)            33024     \n",
            "                                                                 \n",
            " dense_2 (Dense)             (None, 2, 128)            32896     \n",
            "                                                                 \n",
            " flatten (Flatten)           (None, 256)               0         \n",
            "                                                                 \n",
            " dense_3 (Dense)             (None, 10)                2570      \n",
            "                                                                 \n",
            "=================================================================\n",
            "Total params: 85,002\n",
            "Trainable params: 85,002\n",
            "Non-trainable params: 0\n",
            "_________________________________________________________________\n"
          ]
        }
      ]
    },
    {
      "cell_type": "code",
      "metadata": {
        "id": "ypR5DdtwLse0",
        "outputId": "c0bd9778-c027-4dd2-b2fe-9e60da2bc7bf",
        "colab": {
          "base_uri": "https://localhost:8080/"
        }
      },
      "source": [
        "model.fit(X_train, y_train, epochs = 100, validation_split = 0.05, batch_size = 2048, callbacks=[EarlyStopping(patience = 15, restore_best_weights = True)])"
      ],
      "execution_count": null,
      "outputs": [
        {
          "output_type": "stream",
          "name": "stdout",
          "text": [
            "Epoch 1/100\n",
            "279/279 [==============================] - 12s 13ms/step - loss: 1.9630 - accuracy: 0.2356 - val_loss: 1.7395 - val_accuracy: 0.3103\n",
            "Epoch 2/100\n",
            "279/279 [==============================] - 2s 7ms/step - loss: 1.6902 - accuracy: 0.3247 - val_loss: 1.6235 - val_accuracy: 0.3497\n",
            "Epoch 3/100\n",
            "279/279 [==============================] - 2s 6ms/step - loss: 1.6045 - accuracy: 0.3545 - val_loss: 1.5605 - val_accuracy: 0.3725\n",
            "Epoch 4/100\n",
            "279/279 [==============================] - 2s 7ms/step - loss: 1.5593 - accuracy: 0.3722 - val_loss: 1.5258 - val_accuracy: 0.3878\n",
            "Epoch 5/100\n",
            "279/279 [==============================] - 2s 7ms/step - loss: 1.5298 - accuracy: 0.3817 - val_loss: 1.5029 - val_accuracy: 0.3892\n",
            "Epoch 6/100\n",
            "279/279 [==============================] - 2s 6ms/step - loss: 1.5102 - accuracy: 0.3883 - val_loss: 1.4901 - val_accuracy: 0.3983\n",
            "Epoch 7/100\n",
            "279/279 [==============================] - 2s 8ms/step - loss: 1.4982 - accuracy: 0.3910 - val_loss: 1.4816 - val_accuracy: 0.3997\n",
            "Epoch 8/100\n",
            "279/279 [==============================] - 3s 9ms/step - loss: 1.4892 - accuracy: 0.3935 - val_loss: 1.4684 - val_accuracy: 0.3997\n",
            "Epoch 9/100\n",
            "279/279 [==============================] - 2s 7ms/step - loss: 1.4808 - accuracy: 0.3961 - val_loss: 1.4666 - val_accuracy: 0.4042\n",
            "Epoch 10/100\n",
            "279/279 [==============================] - 2s 7ms/step - loss: 1.4738 - accuracy: 0.3982 - val_loss: 1.4613 - val_accuracy: 0.4008\n",
            "Epoch 11/100\n",
            "279/279 [==============================] - 2s 6ms/step - loss: 1.4686 - accuracy: 0.3999 - val_loss: 1.4587 - val_accuracy: 0.4009\n",
            "Epoch 12/100\n",
            "279/279 [==============================] - 2s 6ms/step - loss: 1.4648 - accuracy: 0.4012 - val_loss: 1.4504 - val_accuracy: 0.4065\n",
            "Epoch 13/100\n",
            "279/279 [==============================] - 2s 7ms/step - loss: 1.4606 - accuracy: 0.4028 - val_loss: 1.4488 - val_accuracy: 0.4064\n",
            "Epoch 14/100\n",
            "279/279 [==============================] - 2s 9ms/step - loss: 1.4576 - accuracy: 0.4038 - val_loss: 1.4474 - val_accuracy: 0.4042\n",
            "Epoch 15/100\n",
            "279/279 [==============================] - 2s 8ms/step - loss: 1.4552 - accuracy: 0.4050 - val_loss: 1.4401 - val_accuracy: 0.4132\n",
            "Epoch 16/100\n",
            "279/279 [==============================] - 2s 7ms/step - loss: 1.4519 - accuracy: 0.4069 - val_loss: 1.4426 - val_accuracy: 0.4099\n",
            "Epoch 17/100\n",
            "279/279 [==============================] - 2s 7ms/step - loss: 1.4493 - accuracy: 0.4079 - val_loss: 1.4435 - val_accuracy: 0.4088\n",
            "Epoch 18/100\n",
            "279/279 [==============================] - 2s 7ms/step - loss: 1.4471 - accuracy: 0.4091 - val_loss: 1.4409 - val_accuracy: 0.4094\n",
            "Epoch 19/100\n",
            "279/279 [==============================] - 2s 6ms/step - loss: 1.4441 - accuracy: 0.4108 - val_loss: 1.4371 - val_accuracy: 0.4181\n",
            "Epoch 20/100\n",
            "279/279 [==============================] - 2s 7ms/step - loss: 1.4414 - accuracy: 0.4124 - val_loss: 1.4321 - val_accuracy: 0.4190\n",
            "Epoch 21/100\n",
            "279/279 [==============================] - 3s 12ms/step - loss: 1.4390 - accuracy: 0.4133 - val_loss: 1.4320 - val_accuracy: 0.4149\n",
            "Epoch 22/100\n",
            "279/279 [==============================] - 3s 9ms/step - loss: 1.4362 - accuracy: 0.4150 - val_loss: 1.4263 - val_accuracy: 0.4204\n",
            "Epoch 23/100\n",
            "279/279 [==============================] - 2s 7ms/step - loss: 1.4337 - accuracy: 0.4168 - val_loss: 1.4246 - val_accuracy: 0.4196\n",
            "Epoch 24/100\n",
            "279/279 [==============================] - 2s 7ms/step - loss: 1.4303 - accuracy: 0.4174 - val_loss: 1.4270 - val_accuracy: 0.4209\n",
            "Epoch 25/100\n",
            "279/279 [==============================] - 2s 6ms/step - loss: 1.4273 - accuracy: 0.4201 - val_loss: 1.4228 - val_accuracy: 0.4159\n",
            "Epoch 26/100\n",
            "279/279 [==============================] - 2s 7ms/step - loss: 1.4249 - accuracy: 0.4207 - val_loss: 1.4183 - val_accuracy: 0.4210\n",
            "Epoch 27/100\n",
            "279/279 [==============================] - 2s 8ms/step - loss: 1.4220 - accuracy: 0.4226 - val_loss: 1.4122 - val_accuracy: 0.4293\n",
            "Epoch 28/100\n",
            "279/279 [==============================] - 3s 9ms/step - loss: 1.4175 - accuracy: 0.4252 - val_loss: 1.4115 - val_accuracy: 0.4290\n",
            "Epoch 29/100\n",
            "279/279 [==============================] - 2s 7ms/step - loss: 1.4163 - accuracy: 0.4257 - val_loss: 1.4153 - val_accuracy: 0.4252\n",
            "Epoch 30/100\n",
            "279/279 [==============================] - 2s 7ms/step - loss: 1.4138 - accuracy: 0.4266 - val_loss: 1.4099 - val_accuracy: 0.4284\n",
            "Epoch 31/100\n",
            "279/279 [==============================] - 2s 7ms/step - loss: 1.4121 - accuracy: 0.4273 - val_loss: 1.4170 - val_accuracy: 0.4290\n",
            "Epoch 32/100\n",
            "279/279 [==============================] - 2s 7ms/step - loss: 1.4115 - accuracy: 0.4277 - val_loss: 1.4086 - val_accuracy: 0.4300\n",
            "Epoch 33/100\n",
            "279/279 [==============================] - 2s 7ms/step - loss: 1.4092 - accuracy: 0.4286 - val_loss: 1.4080 - val_accuracy: 0.4289\n",
            "Epoch 34/100\n",
            "279/279 [==============================] - 2s 9ms/step - loss: 1.4081 - accuracy: 0.4293 - val_loss: 1.4162 - val_accuracy: 0.4240\n",
            "Epoch 35/100\n",
            "279/279 [==============================] - 2s 8ms/step - loss: 1.4067 - accuracy: 0.4298 - val_loss: 1.4095 - val_accuracy: 0.4284\n",
            "Epoch 36/100\n",
            "279/279 [==============================] - 2s 6ms/step - loss: 1.4068 - accuracy: 0.4292 - val_loss: 1.4071 - val_accuracy: 0.4283\n",
            "Epoch 37/100\n",
            "279/279 [==============================] - 2s 7ms/step - loss: 1.4050 - accuracy: 0.4307 - val_loss: 1.4021 - val_accuracy: 0.4316\n",
            "Epoch 38/100\n",
            "279/279 [==============================] - 2s 7ms/step - loss: 1.4039 - accuracy: 0.4306 - val_loss: 1.4040 - val_accuracy: 0.4314\n",
            "Epoch 39/100\n",
            "279/279 [==============================] - 2s 7ms/step - loss: 1.4026 - accuracy: 0.4313 - val_loss: 1.4052 - val_accuracy: 0.4292\n",
            "Epoch 40/100\n",
            "279/279 [==============================] - 2s 7ms/step - loss: 1.4023 - accuracy: 0.4319 - val_loss: 1.4028 - val_accuracy: 0.4302\n",
            "Epoch 41/100\n",
            "279/279 [==============================] - 2s 9ms/step - loss: 1.4005 - accuracy: 0.4326 - val_loss: 1.4027 - val_accuracy: 0.4313\n",
            "Epoch 42/100\n",
            "279/279 [==============================] - 2s 8ms/step - loss: 1.3995 - accuracy: 0.4332 - val_loss: 1.4009 - val_accuracy: 0.4326\n",
            "Epoch 43/100\n",
            "279/279 [==============================] - 2s 6ms/step - loss: 1.3982 - accuracy: 0.4335 - val_loss: 1.4017 - val_accuracy: 0.4318\n",
            "Epoch 44/100\n",
            "279/279 [==============================] - 2s 7ms/step - loss: 1.3974 - accuracy: 0.4336 - val_loss: 1.4032 - val_accuracy: 0.4327\n",
            "Epoch 45/100\n",
            "279/279 [==============================] - 2s 7ms/step - loss: 1.3973 - accuracy: 0.4339 - val_loss: 1.4045 - val_accuracy: 0.4314\n",
            "Epoch 46/100\n",
            "279/279 [==============================] - 2s 7ms/step - loss: 1.3957 - accuracy: 0.4347 - val_loss: 1.3978 - val_accuracy: 0.4341\n",
            "Epoch 47/100\n",
            "279/279 [==============================] - 2s 7ms/step - loss: 1.3944 - accuracy: 0.4349 - val_loss: 1.3989 - val_accuracy: 0.4337\n",
            "Epoch 48/100\n",
            "279/279 [==============================] - 3s 9ms/step - loss: 1.3947 - accuracy: 0.4353 - val_loss: 1.3976 - val_accuracy: 0.4316\n",
            "Epoch 49/100\n",
            "279/279 [==============================] - 2s 7ms/step - loss: 1.3929 - accuracy: 0.4360 - val_loss: 1.3995 - val_accuracy: 0.4307\n",
            "Epoch 50/100\n",
            "279/279 [==============================] - 2s 7ms/step - loss: 1.3928 - accuracy: 0.4362 - val_loss: 1.3978 - val_accuracy: 0.4363\n",
            "Epoch 51/100\n",
            "279/279 [==============================] - 2s 7ms/step - loss: 1.3904 - accuracy: 0.4365 - val_loss: 1.3968 - val_accuracy: 0.4336\n",
            "Epoch 52/100\n",
            "279/279 [==============================] - 2s 7ms/step - loss: 1.3908 - accuracy: 0.4364 - val_loss: 1.3982 - val_accuracy: 0.4310\n",
            "Epoch 53/100\n",
            "279/279 [==============================] - 2s 7ms/step - loss: 1.3898 - accuracy: 0.4369 - val_loss: 1.3968 - val_accuracy: 0.4346\n",
            "Epoch 54/100\n",
            "279/279 [==============================] - 2s 8ms/step - loss: 1.3874 - accuracy: 0.4384 - val_loss: 1.3964 - val_accuracy: 0.4338\n",
            "Epoch 55/100\n",
            "279/279 [==============================] - 3s 9ms/step - loss: 1.3876 - accuracy: 0.4377 - val_loss: 1.4011 - val_accuracy: 0.4313\n",
            "Epoch 56/100\n",
            "279/279 [==============================] - 2s 6ms/step - loss: 1.3861 - accuracy: 0.4391 - val_loss: 1.3961 - val_accuracy: 0.4334\n",
            "Epoch 57/100\n",
            "279/279 [==============================] - 2s 6ms/step - loss: 1.3841 - accuracy: 0.4396 - val_loss: 1.3926 - val_accuracy: 0.4386\n",
            "Epoch 58/100\n",
            "279/279 [==============================] - 2s 6ms/step - loss: 1.3834 - accuracy: 0.4398 - val_loss: 1.3949 - val_accuracy: 0.4319\n",
            "Epoch 59/100\n",
            "279/279 [==============================] - 2s 7ms/step - loss: 1.3809 - accuracy: 0.4409 - val_loss: 1.3903 - val_accuracy: 0.4354\n",
            "Epoch 60/100\n",
            "279/279 [==============================] - 2s 6ms/step - loss: 1.3797 - accuracy: 0.4419 - val_loss: 1.3953 - val_accuracy: 0.4313\n",
            "Epoch 61/100\n",
            "279/279 [==============================] - 2s 8ms/step - loss: 1.3785 - accuracy: 0.4419 - val_loss: 1.3918 - val_accuracy: 0.4361\n",
            "Epoch 62/100\n",
            "279/279 [==============================] - 3s 9ms/step - loss: 1.3760 - accuracy: 0.4428 - val_loss: 1.3901 - val_accuracy: 0.4385\n",
            "Epoch 63/100\n",
            "279/279 [==============================] - 2s 7ms/step - loss: 1.3738 - accuracy: 0.4438 - val_loss: 1.3846 - val_accuracy: 0.4379\n",
            "Epoch 64/100\n",
            "279/279 [==============================] - 2s 7ms/step - loss: 1.3727 - accuracy: 0.4445 - val_loss: 1.3818 - val_accuracy: 0.4387\n",
            "Epoch 65/100\n",
            "279/279 [==============================] - 2s 6ms/step - loss: 1.3702 - accuracy: 0.4454 - val_loss: 1.3858 - val_accuracy: 0.4369\n",
            "Epoch 66/100\n",
            "279/279 [==============================] - 2s 7ms/step - loss: 1.3681 - accuracy: 0.4468 - val_loss: 1.3788 - val_accuracy: 0.4419\n",
            "Epoch 67/100\n",
            "279/279 [==============================] - 2s 6ms/step - loss: 1.3653 - accuracy: 0.4487 - val_loss: 1.3830 - val_accuracy: 0.4401\n",
            "Epoch 68/100\n",
            "279/279 [==============================] - 2s 8ms/step - loss: 1.3642 - accuracy: 0.4479 - val_loss: 1.3820 - val_accuracy: 0.4394\n",
            "Epoch 69/100\n",
            "279/279 [==============================] - 2s 9ms/step - loss: 1.3623 - accuracy: 0.4491 - val_loss: 1.3752 - val_accuracy: 0.4408\n",
            "Epoch 70/100\n",
            "279/279 [==============================] - 2s 7ms/step - loss: 1.3595 - accuracy: 0.4505 - val_loss: 1.3730 - val_accuracy: 0.4440\n",
            "Epoch 71/100\n",
            "279/279 [==============================] - 2s 6ms/step - loss: 1.3562 - accuracy: 0.4518 - val_loss: 1.3718 - val_accuracy: 0.4442\n",
            "Epoch 72/100\n",
            "279/279 [==============================] - 2s 6ms/step - loss: 1.3547 - accuracy: 0.4528 - val_loss: 1.3707 - val_accuracy: 0.4416\n",
            "Epoch 73/100\n",
            "279/279 [==============================] - 2s 6ms/step - loss: 1.3519 - accuracy: 0.4540 - val_loss: 1.3702 - val_accuracy: 0.4393\n",
            "Epoch 74/100\n",
            "279/279 [==============================] - 2s 7ms/step - loss: 1.3491 - accuracy: 0.4554 - val_loss: 1.3687 - val_accuracy: 0.4452\n",
            "Epoch 75/100\n",
            "279/279 [==============================] - 2s 9ms/step - loss: 1.3470 - accuracy: 0.4556 - val_loss: 1.3651 - val_accuracy: 0.4444\n",
            "Epoch 76/100\n",
            "279/279 [==============================] - 2s 9ms/step - loss: 1.3442 - accuracy: 0.4568 - val_loss: 1.3629 - val_accuracy: 0.4468\n",
            "Epoch 77/100\n",
            "279/279 [==============================] - 2s 6ms/step - loss: 1.3413 - accuracy: 0.4583 - val_loss: 1.3656 - val_accuracy: 0.4454\n",
            "Epoch 78/100\n",
            "279/279 [==============================] - 2s 7ms/step - loss: 1.3385 - accuracy: 0.4593 - val_loss: 1.3553 - val_accuracy: 0.4550\n",
            "Epoch 79/100\n",
            "279/279 [==============================] - 2s 7ms/step - loss: 1.3349 - accuracy: 0.4610 - val_loss: 1.3541 - val_accuracy: 0.4495\n",
            "Epoch 80/100\n",
            "279/279 [==============================] - 2s 7ms/step - loss: 1.3328 - accuracy: 0.4619 - val_loss: 1.3521 - val_accuracy: 0.4565\n",
            "Epoch 81/100\n",
            "279/279 [==============================] - 2s 7ms/step - loss: 1.3287 - accuracy: 0.4635 - val_loss: 1.3472 - val_accuracy: 0.4525\n",
            "Epoch 82/100\n",
            "279/279 [==============================] - 3s 9ms/step - loss: 1.3248 - accuracy: 0.4642 - val_loss: 1.3451 - val_accuracy: 0.4522\n",
            "Epoch 83/100\n",
            "279/279 [==============================] - 2s 8ms/step - loss: 1.3209 - accuracy: 0.4662 - val_loss: 1.3447 - val_accuracy: 0.4579\n",
            "Epoch 84/100\n",
            "279/279 [==============================] - 2s 7ms/step - loss: 1.3187 - accuracy: 0.4675 - val_loss: 1.3391 - val_accuracy: 0.4612\n",
            "Epoch 85/100\n",
            "279/279 [==============================] - 2s 7ms/step - loss: 1.3156 - accuracy: 0.4682 - val_loss: 1.3376 - val_accuracy: 0.4611\n",
            "Epoch 86/100\n",
            "279/279 [==============================] - 2s 7ms/step - loss: 1.3121 - accuracy: 0.4695 - val_loss: 1.3388 - val_accuracy: 0.4583\n",
            "Epoch 87/100\n",
            "279/279 [==============================] - 2s 7ms/step - loss: 1.3102 - accuracy: 0.4703 - val_loss: 1.3357 - val_accuracy: 0.4573\n",
            "Epoch 88/100\n",
            "279/279 [==============================] - 2s 8ms/step - loss: 1.3062 - accuracy: 0.4715 - val_loss: 1.3285 - val_accuracy: 0.4586\n",
            "Epoch 89/100\n",
            "279/279 [==============================] - 3s 9ms/step - loss: 1.3040 - accuracy: 0.4724 - val_loss: 1.3300 - val_accuracy: 0.4556\n",
            "Epoch 90/100\n",
            "279/279 [==============================] - 2s 7ms/step - loss: 1.3006 - accuracy: 0.4733 - val_loss: 1.3243 - val_accuracy: 0.4635\n",
            "Epoch 91/100\n",
            "279/279 [==============================] - 2s 7ms/step - loss: 1.2984 - accuracy: 0.4740 - val_loss: 1.3240 - val_accuracy: 0.4651\n",
            "Epoch 92/100\n",
            "279/279 [==============================] - 2s 7ms/step - loss: 1.2962 - accuracy: 0.4752 - val_loss: 1.3220 - val_accuracy: 0.4636\n",
            "Epoch 93/100\n",
            "279/279 [==============================] - 2s 6ms/step - loss: 1.2918 - accuracy: 0.4767 - val_loss: 1.3278 - val_accuracy: 0.4607\n",
            "Epoch 94/100\n",
            "279/279 [==============================] - 2s 7ms/step - loss: 1.2901 - accuracy: 0.4772 - val_loss: 1.3149 - val_accuracy: 0.4643\n",
            "Epoch 95/100\n",
            "279/279 [==============================] - 2s 8ms/step - loss: 1.2873 - accuracy: 0.4783 - val_loss: 1.3137 - val_accuracy: 0.4653\n",
            "Epoch 96/100\n",
            "279/279 [==============================] - 3s 10ms/step - loss: 1.2864 - accuracy: 0.4777 - val_loss: 1.3188 - val_accuracy: 0.4640\n",
            "Epoch 97/100\n",
            "279/279 [==============================] - 2s 7ms/step - loss: 1.2843 - accuracy: 0.4790 - val_loss: 1.3098 - val_accuracy: 0.4674\n",
            "Epoch 98/100\n",
            "279/279 [==============================] - 2s 7ms/step - loss: 1.2812 - accuracy: 0.4803 - val_loss: 1.3083 - val_accuracy: 0.4682\n",
            "Epoch 99/100\n",
            "279/279 [==============================] - 2s 6ms/step - loss: 1.2790 - accuracy: 0.4810 - val_loss: 1.3172 - val_accuracy: 0.4669\n",
            "Epoch 100/100\n",
            "279/279 [==============================] - 2s 7ms/step - loss: 1.2778 - accuracy: 0.4816 - val_loss: 1.3102 - val_accuracy: 0.4660\n"
          ]
        },
        {
          "output_type": "execute_result",
          "data": {
            "text/plain": [
              "<keras.callbacks.History at 0x7f1113ac4d90>"
            ]
          },
          "metadata": {},
          "execution_count": 20
        }
      ]
    },
    {
      "cell_type": "code",
      "metadata": {
        "id": "GHqxuT5ZkabZ"
      },
      "source": [
        "model.save('ann.h5')"
      ],
      "execution_count": null,
      "outputs": []
    },
    {
      "cell_type": "markdown",
      "metadata": {
        "id": "A7WC0d9sDyg-"
      },
      "source": [
        "## \"AbRo\" Model for Convolution Connected Neural Networks"
      ]
    },
    {
      "cell_type": "code",
      "metadata": {
        "id": "2Y8zIXRfZEX2"
      },
      "source": [
        "dr = 0.5\n",
        "model = Sequential()\n",
        "model.add(Reshape(out_shape, input_shape = in_shape))\n",
        "model.add(ZeroPadding2D((0, 2), data_format = 'channels_first'))\n",
        "model.add(Conv2D(256, (1, 3), padding = 'valid', activation = \"relu\", name=\"conv1\", kernel_initializer='glorot_uniform', data_format=\"channels_first\"))\n",
        "model.add(Dropout(dr))\n",
        "model.add(ZeroPadding2D((0,2), data_format = 'channels_first'))\n",
        "model.add(Conv2D(80, (2, 3), activation=\"relu\", name=\"conv3\", padding=\"valid\", kernel_initializer=\"glorot_uniform\", data_format=\"channels_first\"))\n",
        "model.add(Dropout(dr))\n",
        "model.add(Flatten())   \n",
        "model.add(Dense(256, activation=\"relu\", name=\"dense1\", kernel_initializer=\"he_normal\"))\n",
        "model.add(Dropout(dr))\n",
        "model.add(Dense(10, name=\"dense3\", kernel_initializer=\"he_normal\", activation = 'softmax'))\n",
        "model.add(Reshape([len(mods)]))"
      ],
      "execution_count": null,
      "outputs": []
    },
    {
      "cell_type": "code",
      "metadata": {
        "id": "dhkPZ29VKs5W",
        "outputId": "164ca679-5ee6-4f13-92a2-44d32f470547",
        "colab": {
          "base_uri": "https://localhost:8080/"
        }
      },
      "source": [
        "model.compile(loss='categorical_crossentropy', optimizer='adam', metrics = ['accuracy'])\n",
        "model.summary()"
      ],
      "execution_count": null,
      "outputs": [
        {
          "output_type": "stream",
          "name": "stdout",
          "text": [
            "Model: \"sequential_1\"\n",
            "_________________________________________________________________\n",
            " Layer (type)                Output Shape              Param #   \n",
            "=================================================================\n",
            " reshape (Reshape)           (None, 1, 2, 128)         0         \n",
            "                                                                 \n",
            " zero_padding2d (ZeroPadding  (None, 1, 2, 132)        0         \n",
            " 2D)                                                             \n",
            "                                                                 \n",
            " conv1 (Conv2D)              (None, 256, 2, 130)       1024      \n",
            "                                                                 \n",
            " dropout (Dropout)           (None, 256, 2, 130)       0         \n",
            "                                                                 \n",
            " zero_padding2d_1 (ZeroPaddi  (None, 256, 2, 134)      0         \n",
            " ng2D)                                                           \n",
            "                                                                 \n",
            " conv3 (Conv2D)              (None, 80, 1, 132)        122960    \n",
            "                                                                 \n",
            " dropout_1 (Dropout)         (None, 80, 1, 132)        0         \n",
            "                                                                 \n",
            " flatten_1 (Flatten)         (None, 10560)             0         \n",
            "                                                                 \n",
            " dense1 (Dense)              (None, 256)               2703616   \n",
            "                                                                 \n",
            " dropout_2 (Dropout)         (None, 256)               0         \n",
            "                                                                 \n",
            " dense3 (Dense)              (None, 10)                2570      \n",
            "                                                                 \n",
            " reshape_1 (Reshape)         (None, 10)                0         \n",
            "                                                                 \n",
            "=================================================================\n",
            "Total params: 2,830,170\n",
            "Trainable params: 2,830,170\n",
            "Non-trainable params: 0\n",
            "_________________________________________________________________\n"
          ]
        }
      ]
    },
    {
      "cell_type": "code",
      "metadata": {
        "id": "KJnFGjvG8CS2",
        "outputId": "ae949663-ffde-4eba-b585-2e92402393b0",
        "colab": {
          "base_uri": "https://localhost:8080/"
        }
      },
      "source": [
        "model.fit(X_train, y_train, epochs = 100, batch_size = 1024, validation_split = 0.05, callbacks=[EarlyStopping(patience = 15, restore_best_weights = True)])"
      ],
      "execution_count": null,
      "outputs": [
        {
          "output_type": "stream",
          "name": "stdout",
          "text": [
            "Epoch 1/100\n",
            "557/557 [==============================] - 68s 92ms/step - loss: 1.7821 - accuracy: 0.2930 - val_loss: 1.3937 - val_accuracy: 0.4371\n",
            "Epoch 2/100\n",
            "557/557 [==============================] - 50s 89ms/step - loss: 1.3733 - accuracy: 0.4325 - val_loss: 1.2121 - val_accuracy: 0.4980\n",
            "Epoch 3/100\n",
            "557/557 [==============================] - 49s 88ms/step - loss: 1.3063 - accuracy: 0.4546 - val_loss: 1.2092 - val_accuracy: 0.4892\n",
            "Epoch 4/100\n",
            "557/557 [==============================] - 49s 88ms/step - loss: 1.2812 - accuracy: 0.4617 - val_loss: 1.1701 - val_accuracy: 0.5072\n",
            "Epoch 5/100\n",
            "557/557 [==============================] - 49s 88ms/step - loss: 1.2658 - accuracy: 0.4666 - val_loss: 1.1555 - val_accuracy: 0.5085\n",
            "Epoch 6/100\n",
            "557/557 [==============================] - 49s 88ms/step - loss: 1.2550 - accuracy: 0.4705 - val_loss: 1.1534 - val_accuracy: 0.5105\n",
            "Epoch 7/100\n",
            "557/557 [==============================] - 50s 89ms/step - loss: 1.2468 - accuracy: 0.4735 - val_loss: 1.1485 - val_accuracy: 0.5120\n",
            "Epoch 8/100\n",
            "557/557 [==============================] - 50s 89ms/step - loss: 1.2395 - accuracy: 0.4760 - val_loss: 1.1461 - val_accuracy: 0.5150\n",
            "Epoch 9/100\n",
            "557/557 [==============================] - 50s 89ms/step - loss: 1.2338 - accuracy: 0.4783 - val_loss: 1.1407 - val_accuracy: 0.5076\n",
            "Epoch 10/100\n",
            "557/557 [==============================] - 49s 88ms/step - loss: 1.2266 - accuracy: 0.4809 - val_loss: 1.1411 - val_accuracy: 0.5143\n",
            "Epoch 11/100\n",
            "557/557 [==============================] - 50s 89ms/step - loss: 1.2229 - accuracy: 0.4821 - val_loss: 1.1362 - val_accuracy: 0.5180\n",
            "Epoch 12/100\n",
            "557/557 [==============================] - 49s 88ms/step - loss: 1.2185 - accuracy: 0.4838 - val_loss: 1.1398 - val_accuracy: 0.5051\n",
            "Epoch 13/100\n",
            "557/557 [==============================] - 49s 88ms/step - loss: 1.2109 - accuracy: 0.4860 - val_loss: 1.1240 - val_accuracy: 0.5130\n",
            "Epoch 14/100\n",
            "557/557 [==============================] - 50s 89ms/step - loss: 1.2047 - accuracy: 0.4880 - val_loss: 1.1242 - val_accuracy: 0.5175\n",
            "Epoch 15/100\n",
            "557/557 [==============================] - 50s 89ms/step - loss: 1.2005 - accuracy: 0.4889 - val_loss: 1.1278 - val_accuracy: 0.5151\n",
            "Epoch 16/100\n",
            "557/557 [==============================] - 50s 89ms/step - loss: 1.1945 - accuracy: 0.4913 - val_loss: 1.1099 - val_accuracy: 0.5182\n",
            "Epoch 17/100\n",
            "557/557 [==============================] - 49s 88ms/step - loss: 1.1931 - accuracy: 0.4905 - val_loss: 1.1109 - val_accuracy: 0.5244\n",
            "Epoch 18/100\n",
            "557/557 [==============================] - 49s 88ms/step - loss: 1.1858 - accuracy: 0.4943 - val_loss: 1.1152 - val_accuracy: 0.5240\n",
            "Epoch 19/100\n",
            "557/557 [==============================] - 50s 90ms/step - loss: 1.1830 - accuracy: 0.4952 - val_loss: 1.0991 - val_accuracy: 0.5320\n",
            "Epoch 20/100\n",
            "557/557 [==============================] - 49s 89ms/step - loss: 1.1773 - accuracy: 0.4979 - val_loss: 1.1007 - val_accuracy: 0.5360\n",
            "Epoch 21/100\n",
            "557/557 [==============================] - 50s 90ms/step - loss: 1.1717 - accuracy: 0.5042 - val_loss: 1.0908 - val_accuracy: 0.5413\n",
            "Epoch 22/100\n",
            "557/557 [==============================] - 50s 90ms/step - loss: 1.1643 - accuracy: 0.5086 - val_loss: 1.0879 - val_accuracy: 0.5405\n",
            "Epoch 23/100\n",
            "557/557 [==============================] - 50s 90ms/step - loss: 1.1605 - accuracy: 0.5116 - val_loss: 1.0841 - val_accuracy: 0.5439\n",
            "Epoch 24/100\n",
            "557/557 [==============================] - 50s 89ms/step - loss: 1.1564 - accuracy: 0.5128 - val_loss: 1.0809 - val_accuracy: 0.5412\n",
            "Epoch 25/100\n",
            "557/557 [==============================] - 50s 89ms/step - loss: 1.1534 - accuracy: 0.5148 - val_loss: 1.0774 - val_accuracy: 0.5438\n",
            "Epoch 26/100\n",
            "557/557 [==============================] - 49s 88ms/step - loss: 1.1507 - accuracy: 0.5162 - val_loss: 1.0752 - val_accuracy: 0.5472\n",
            "Epoch 27/100\n",
            "557/557 [==============================] - 50s 90ms/step - loss: 1.1486 - accuracy: 0.5168 - val_loss: 1.0735 - val_accuracy: 0.5442\n",
            "Epoch 28/100\n",
            " 92/557 [===>..........................] - ETA: 40s - loss: 1.1430 - accuracy: 0.5219"
          ]
        }
      ]
    },
    {
      "cell_type": "code",
      "metadata": {
        "id": "xCboPj6HmePv"
      },
      "source": [
        "model.save(\"cnn.h5\")"
      ],
      "execution_count": null,
      "outputs": []
    },
    {
      "cell_type": "markdown",
      "metadata": {
        "id": "U1HLIWliWXFI"
      },
      "source": [
        "## Evaluation"
      ]
    },
    {
      "cell_type": "code",
      "metadata": {
        "id": "Z7cLVWlrWapz"
      },
      "source": [
        "def plot_results(predicted_labels, true_labels, snrs):\n",
        "  \n",
        "  sorted_snrs = np.sort(np.unique(snrs))\n",
        "  \n",
        "  x_axis = []\n",
        "  y_axis = []\n",
        "  for snr in sorted_snrs:\n",
        "    idx = np.where(snrs == snr)\n",
        "    #print('snr =', snr, '-->', accuracy_score(np.argmax(true_labels[idx], axis = 1), np.argmax(predicted_labels[idx], axis = 1)))\n",
        "    x_axis.append(snr)\n",
        "    y_axis.append(accuracy_score(np.argmax(true_labels[idx], axis = 1), np.argmax(predicted_labels[idx], axis = 1)))\n",
        "  \n",
        "  plt.xlabel('SNR')\n",
        "  plt.ylabel('Accuracy')\n",
        "  plt.title('Classification Accuracy over different SNRs')\n",
        "  plt.plot(x_axis, np.array(y_axis) * 100, 'ro--')\n",
        "  plt.grid(True)"
      ],
      "execution_count": null,
      "outputs": []
    },
    {
      "cell_type": "code",
      "metadata": {
        "id": "6a0lJiO3r_Vi"
      },
      "source": [
        "def print_results(predicted_labels, true_labels, snrs):\n",
        "  \n",
        "  sorted_snrs = np.sort(np.unique(snrs))\n",
        "  \n",
        "  x_axis = []\n",
        "  y_axis = []\n",
        "  for snr in sorted_snrs:\n",
        "    idx = np.where(snrs == snr)\n",
        "    #print('snr =', snr, '-->', accuracy_score(np.argmax(true_labels[idx], axis = 1), np.argmax(predicted_labels[idx], axis = 1)))\n",
        "    x_axis.append(snr)\n",
        "    y_axis.append(accuracy_score(np.argmax(true_labels[idx], axis = 1), np.argmax(predicted_labels[idx], axis = 1)))\n",
        "  \n",
        "  return df(data = np.array(y_axis).reshape(1, -1) * 100,  columns = sorted_snrs, index = ['accuracy']).round(2)"
      ],
      "execution_count": null,
      "outputs": []
    },
    {
      "cell_type": "code",
      "metadata": {
        "id": "2FzcvVc6nmbC"
      },
      "source": [
        "def plot_confusion_matrix(y_true, y_pred, classes, cmap=plt.cm.Blues):\n",
        "  y_true, y_pred = np.argmax(y_true, axis = 1), np.argmax(y_pred, axis = 1)\n",
        "  cm = confusion_matrix(y_true, y_pred)\n",
        "  cm = cm.astype('float') / cm.sum(axis=1)[:, np.newaxis]\n",
        "  fig, ax = plt.subplots()\n",
        "  im = ax.imshow(cm, interpolation='nearest', cmap=cmap)\n",
        "  ax.figure.colorbar(im, ax=ax)\n",
        "  # We want to show all ticks...\n",
        "  ax.set(xticks=np.arange(cm.shape[1]),\n",
        "         yticks=np.arange(cm.shape[0]),\n",
        "         # ... and label them with the respective list entries\n",
        "         xticklabels=classes, yticklabels=classes,\n",
        "         title = 'Confusion Matrix',\n",
        "         ylabel = 'True label',\n",
        "         xlabel = 'Predicted label')\n",
        "\n",
        "  # Rotate the tick labels and set their alignment.\n",
        "  plt.setp(ax.get_xticklabels(), rotation=45, ha=\"right\",\n",
        "           rotation_mode=\"anchor\")"
      ],
      "execution_count": null,
      "outputs": []
    },
    {
      "cell_type": "markdown",
      "metadata": {
        "id": "jKW_xp8w8qN1"
      },
      "source": [
        "##**Fully Connected Neural Network Evaluation**"
      ]
    },
    {
      "cell_type": "code",
      "metadata": {
        "id": "S6xxG9VcrZfm"
      },
      "source": [
        "ann_model = keras.models.load_model('/content/drive/MyDrive/ann.h5')"
      ],
      "execution_count": null,
      "outputs": []
    },
    {
      "cell_type": "code",
      "metadata": {
        "id": "4Ktfm-fk37VG",
        "colab": {
          "base_uri": "https://localhost:8080/"
        },
        "outputId": "caca7941-ee36-427b-8ca5-49d3abc7fed6"
      },
      "source": [
        "y_pred_ann = ann_model.predict(X_test)"
      ],
      "execution_count": null,
      "outputs": [
        {
          "output_type": "stream",
          "name": "stdout",
          "text": [
            "18750/18750 [==============================] - 37s 2ms/step\n"
          ]
        }
      ]
    },
    {
      "cell_type": "code",
      "metadata": {
        "id": "LhjDFkCPW65X",
        "outputId": "b6afb604-e00a-4f5e-90b0-9539f112fc18",
        "colab": {
          "base_uri": "https://localhost:8080/",
          "height": 472
        }
      },
      "source": [
        "plot_results(y_pred_ann, y_test, snr_test)"
      ],
      "execution_count": null,
      "outputs": [
        {
          "output_type": "display_data",
          "data": {
            "text/plain": [
              "<Figure size 640x480 with 1 Axes>"
            ],
            "image/png": "[encoded data removed]"
          },
          "metadata": {}
        }
      ]
    },
    {
      "cell_type": "code",
      "metadata": {
        "id": "gioOOGHRsMfV",
        "outputId": "bf6c4c06-5f89-416d-ded1-87016492af37",
        "colab": {
          "base_uri": "https://localhost:8080/",
          "height": 81
        }
      },
      "source": [
        "print_results(y_pred_ann, y_test, snr_test)"
      ],
      "execution_count": null,
      "outputs": [
        {
          "output_type": "execute_result",
          "data": {
            "text/plain": [
              "           -20    -18    -16    -14    -12   -10    -8     -6     -4     -2   \\\n",
              "accuracy  10.3  10.81  11.57  13.36  17.42  23.5  30.86  38.65  49.23  57.21   \n",
              "\n",
              "             0      2      4      6      8      10    12     14     16     18  \n",
              "accuracy  62.68  67.96  70.42  71.24  71.62  72.46  72.0  71.49  71.56  71.61  "
            ],
            "text/html": [
              "\n",
              "  <div id=\"df-123c1faa-3066-4e9d-ab8c-d4f1d6232fe5\">\n",
              "    <div class=\"colab-df-container\">\n",
              "      <div>\n",
              "<style scoped>\n",
              "    .dataframe tbody tr th:only-of-type {\n",
              "        vertical-align: middle;\n",
              "    }\n",
              "\n",
              "    .dataframe tbody tr th {\n",
              "        vertical-align: top;\n",
              "    }\n",
              "\n",
              "    .dataframe thead th {\n",
              "        text-align: right;\n",
              "    }\n",
              "</style>\n",
              "<table border=\"1\" class=\"dataframe\">\n",
              "  <thead>\n",
              "    <tr style=\"text-align: right;\">\n",
              "      <th></th>\n",
              "      <th>-20</th>\n",
              "      <th>-18</th>\n",
              "      <th>-16</th>\n",
              "      <th>-14</th>\n",
              "      <th>-12</th>\n",
              "      <th>-10</th>\n",
              "      <th>-8</th>\n",
              "      <th>-6</th>\n",
              "      <th>-4</th>\n",
              "      <th>-2</th>\n",
              "      <th>0</th>\n",
              "      <th>2</th>\n",
              "      <th>4</th>\n",
              "      <th>6</th>\n",
              "      <th>8</th>\n",
              "      <th>10</th>\n",
              "      <th>12</th>\n",
              "      <th>14</th>\n",
              "      <th>16</th>\n",
              "      <th>18</th>\n",
              "    </tr>\n",
              "  </thead>\n",
              "  <tbody>\n",
              "    <tr>\n",
              "      <th>accuracy</th>\n",
              "      <td>10.3</td>\n",
              "      <td>10.81</td>\n",
              "      <td>11.57</td>\n",
              "      <td>13.36</td>\n",
              "      <td>17.42</td>\n",
              "      <td>23.5</td>\n",
              "      <td>30.86</td>\n",
              "      <td>38.65</td>\n",
              "      <td>49.23</td>\n",
              "      <td>57.21</td>\n",
              "      <td>62.68</td>\n",
              "      <td>67.96</td>\n",
              "      <td>70.42</td>\n",
              "      <td>71.24</td>\n",
              "      <td>71.62</td>\n",
              "      <td>72.46</td>\n",
              "      <td>72.0</td>\n",
              "      <td>71.49</td>\n",
              "      <td>71.56</td>\n",
              "      <td>71.61</td>\n",
              "    </tr>\n",
              "  </tbody>\n",
              "</table>\n",
              "</div>\n",
              "      <button class=\"colab-df-convert\" onclick=\"convertToInteractive('df-123c1faa-3066-4e9d-ab8c-d4f1d6232fe5')\"\n",
              "              title=\"Convert this dataframe to an interactive table.\"\n",
              "              style=\"display:none;\">\n",
              "        \n",
              "  <svg xmlns=\"http://www.w3.org/2000/svg\" height=\"24px\"viewBox=\"0 0 24 24\"\n",
              "       width=\"24px\">\n",
              "    <path d=\"M0 0h24v24H0V0z\" fill=\"none\"/>\n",
              "    <path d=\"M18.56 5.44l.94 2.06.94-2.06 2.06-.94-2.06-.94-.94-2.06-.94 2.06-2.06.94zm-11 1L8.5 8.5l.94-2.06 2.06-.94-2.06-.94L8.5 2.5l-.94 2.06-2.06.94zm10 10l.94 2.06.94-2.06 2.06-.94-2.06-.94-.94-2.06-.94 2.06-2.06.94z\"/><path d=\"M17.41 7.96l-1.37-1.37c-.4-.4-.92-.59-1.43-.59-.52 0-1.04.2-1.43.59L10.3 9.45l-7.72 7.72c-.78.78-.78 2.05 0 2.83L4 21.41c.39.39.9.59 1.41.59.51 0 1.02-.2 1.41-.59l7.78-7.78 2.81-2.81c.8-.78.8-2.07 0-2.86zM5.41 20L4 18.59l7.72-7.72 1.47 1.35L5.41 20z\"/>\n",
              "  </svg>\n",
              "      </button>\n",
              "      \n",
              "  <style>\n",
              "    .colab-df-container {\n",
              "      display:flex;\n",
              "      flex-wrap:wrap;\n",
              "      gap: 12px;\n",
              "    }\n",
              "\n",
              "    .colab-df-convert {\n",
              "      background-color: #E8F0FE;\n",
              "      border: none;\n",
              "      border-radius: 50%;\n",
              "      cursor: pointer;\n",
              "      display: none;\n",
              "      fill: #1967D2;\n",
              "      height: 32px;\n",
              "      padding: 0 0 0 0;\n",
              "      width: 32px;\n",
              "    }\n",
              "\n",
              "    .colab-df-convert:hover {\n",
              "      background-color: #E2EBFA;\n",
              "      box-shadow: 0px 1px 2px rgba(60, 64, 67, 0.3), 0px 1px 3px 1px rgba(60, 64, 67, 0.15);\n",
              "      fill: #174EA6;\n",
              "    }\n",
              "\n",
              "    [theme=dark] .colab-df-convert {\n",
              "      background-color: #3B4455;\n",
              "      fill: #D2E3FC;\n",
              "    }\n",
              "\n",
              "    [theme=dark] .colab-df-convert:hover {\n",
              "      background-color: #434B5C;\n",
              "      box-shadow: 0px 1px 3px 1px rgba(0, 0, 0, 0.15);\n",
              "      filter: drop-shadow(0px 1px 2px rgba(0, 0, 0, 0.3));\n",
              "      fill: #FFFFFF;\n",
              "    }\n",
              "  </style>\n",
              "\n",
              "      <script>\n",
              "        const buttonEl =\n",
              "          document.querySelector('#df-123c1faa-3066-4e9d-ab8c-d4f1d6232fe5 button.colab-df-convert');\n",
              "        buttonEl.style.display =\n",
              "          google.colab.kernel.accessAllowed ? 'block' : 'none';\n",
              "\n",
              "        async function convertToInteractive(key) {\n",
              "          const element = document.querySelector('#df-123c1faa-3066-4e9d-ab8c-d4f1d6232fe5');\n",
              "          const dataTable =\n",
              "            await google.colab.kernel.invokeFunction('convertToInteractive',\n",
              "                                                     [key], {});\n",
              "          if (!dataTable) return;\n",
              "\n",
              "          const docLinkHtml = 'Like what you see? Visit the ' +\n",
              "            '<a target=\"_blank\" href=https://colab.research.google.com/notebooks/data_table.ipynb>data table notebook</a>'\n",
              "            + ' to learn more about interactive tables.';\n",
              "          element.innerHTML = '';\n",
              "          dataTable['output_type'] = 'display_data';\n",
              "          await google.colab.output.renderOutput(dataTable, element);\n",
              "          const docLink = document.createElement('div');\n",
              "          docLink.innerHTML = docLinkHtml;\n",
              "          element.appendChild(docLink);\n",
              "        }\n",
              "      </script>\n",
              "    </div>\n",
              "  </div>\n",
              "  "
            ]
          },
          "metadata": {},
          "execution_count": 20
        }
      ]
    },
    {
      "cell_type": "code",
      "metadata": {
        "id": "xycfVkhXZBsu",
        "outputId": "e92a39f8-d781-4a5e-a4d8-70b8ae9228e5",
        "colab": {
          "base_uri": "https://localhost:8080/",
          "height": 519
        }
      },
      "source": [
        "plot_confusion_matrix(y_test, y_pred_ann, mods)"
      ],
      "execution_count": null,
      "outputs": [
        {
          "output_type": "display_data",
          "data": {
            "text/plain": [
              "<Figure size 640x480 with 2 Axes>"
            ],
            "image/png": "[encoded data removed]"
          },
          "metadata": {}
        }
      ]
    },
    {
      "cell_type": "markdown",
      "metadata": {
        "id": "eW1I3_la8vo9"
      },
      "source": [
        "#Convolutional Neural Network Evaluation"
      ]
    },
    {
      "cell_type": "code",
      "metadata": {
        "id": "Lkyka1zZ8Wct"
      },
      "source": [
        "cnn_model = keras.models.load_model('/content/drive/MyDrive/cnn.h5')"
      ],
      "execution_count": null,
      "outputs": []
    },
    {
      "cell_type": "code",
      "metadata": {
        "id": "GVeWbsoh8d8T",
        "colab": {
          "base_uri": "https://localhost:8080/"
        },
        "outputId": "7ebf9abf-1f18-44af-c3c6-88e98ebd5039"
      },
      "source": [
        "y_pred_cnn = cnn_model.predict(X_test)"
      ],
      "execution_count": null,
      "outputs": [
        {
          "output_type": "stream",
          "name": "stdout",
          "text": [
            "18750/18750 [==============================] - 42s 2ms/step\n"
          ]
        }
      ]
    },
    {
      "cell_type": "code",
      "metadata": {
        "id": "xUa7Ua8HXBxk",
        "outputId": "8dc08b77-c72e-4f3b-b70d-9ec972de0c38",
        "colab": {
          "base_uri": "https://localhost:8080/",
          "height": 472
        }
      },
      "source": [
        "plot_results(y_pred_cnn, y_test, snr_test)"
      ],
      "execution_count": null,
      "outputs": [
        {
          "output_type": "display_data",
          "data": {
            "text/plain": [
              "<Figure size 640x480 with 1 Axes>"
            ],
            "image/png": "[encoded data removed]"
          },
          "metadata": {}
        }
      ]
    },
    {
      "cell_type": "code",
      "metadata": {
        "id": "-zxS5Svc12Q-",
        "outputId": "f5f44ca4-2f18-4f24-cc24-fc40114a1ea0",
        "colab": {
          "base_uri": "https://localhost:8080/",
          "height": 81
        }
      },
      "source": [
        "print_results(y_pred_cnn, y_test, snr_test)"
      ],
      "execution_count": null,
      "outputs": [
        {
          "output_type": "execute_result",
          "data": {
            "text/plain": [
              "            -20    -18    -16    -14    -12    -10   -8     -6     -4     -2   \\\n",
              "accuracy  10.31  10.37  11.07  12.29  15.89  26.18  39.9  52.19  63.64  73.92   \n",
              "\n",
              "            0      2      4      6      8      10     12     14     16     18  \n",
              "accuracy  80.3  82.22  82.55  82.87  83.16  83.05  83.19  83.35  82.96  83.47  "
            ],
            "text/html": [
              "\n",
              "  <div id=\"df-361673d3-e435-4b5e-99ee-770a392b3959\">\n",
              "    <div class=\"colab-df-container\">\n",
              "      <div>\n",
              "<style scoped>\n",
              "    .dataframe tbody tr th:only-of-type {\n",
              "        vertical-align: middle;\n",
              "    }\n",
              "\n",
              "    .dataframe tbody tr th {\n",
              "        vertical-align: top;\n",
              "    }\n",
              "\n",
              "    .dataframe thead th {\n",
              "        text-align: right;\n",
              "    }\n",
              "</style>\n",
              "<table border=\"1\" class=\"dataframe\">\n",
              "  <thead>\n",
              "    <tr style=\"text-align: right;\">\n",
              "      <th></th>\n",
              "      <th>-20</th>\n",
              "      <th>-18</th>\n",
              "      <th>-16</th>\n",
              "      <th>-14</th>\n",
              "      <th>-12</th>\n",
              "      <th>-10</th>\n",
              "      <th>-8</th>\n",
              "      <th>-6</th>\n",
              "      <th>-4</th>\n",
              "      <th>-2</th>\n",
              "      <th>0</th>\n",
              "      <th>2</th>\n",
              "      <th>4</th>\n",
              "      <th>6</th>\n",
              "      <th>8</th>\n",
              "      <th>10</th>\n",
              "      <th>12</th>\n",
              "      <th>14</th>\n",
              "      <th>16</th>\n",
              "      <th>18</th>\n",
              "    </tr>\n",
              "  </thead>\n",
              "  <tbody>\n",
              "    <tr>\n",
              "      <th>accuracy</th>\n",
              "      <td>10.31</td>\n",
              "      <td>10.37</td>\n",
              "      <td>11.07</td>\n",
              "      <td>12.29</td>\n",
              "      <td>15.89</td>\n",
              "      <td>26.18</td>\n",
              "      <td>39.9</td>\n",
              "      <td>52.19</td>\n",
              "      <td>63.64</td>\n",
              "      <td>73.92</td>\n",
              "      <td>80.3</td>\n",
              "      <td>82.22</td>\n",
              "      <td>82.55</td>\n",
              "      <td>82.87</td>\n",
              "      <td>83.16</td>\n",
              "      <td>83.05</td>\n",
              "      <td>83.19</td>\n",
              "      <td>83.35</td>\n",
              "      <td>82.96</td>\n",
              "      <td>83.47</td>\n",
              "    </tr>\n",
              "  </tbody>\n",
              "</table>\n",
              "</div>\n",
              "      <button class=\"colab-df-convert\" onclick=\"convertToInteractive('df-361673d3-e435-4b5e-99ee-770a392b3959')\"\n",
              "              title=\"Convert this dataframe to an interactive table.\"\n",
              "              style=\"display:none;\">\n",
              "        \n",
              "  <svg xmlns=\"http://www.w3.org/2000/svg\" height=\"24px\"viewBox=\"0 0 24 24\"\n",
              "       width=\"24px\">\n",
              "    <path d=\"M0 0h24v24H0V0z\" fill=\"none\"/>\n",
              "    <path d=\"M18.56 5.44l.94 2.06.94-2.06 2.06-.94-2.06-.94-.94-2.06-.94 2.06-2.06.94zm-11 1L8.5 8.5l.94-2.06 2.06-.94-2.06-.94L8.5 2.5l-.94 2.06-2.06.94zm10 10l.94 2.06.94-2.06 2.06-.94-2.06-.94-.94-2.06-.94 2.06-2.06.94z\"/><path d=\"M17.41 7.96l-1.37-1.37c-.4-.4-.92-.59-1.43-.59-.52 0-1.04.2-1.43.59L10.3 9.45l-7.72 7.72c-.78.78-.78 2.05 0 2.83L4 21.41c.39.39.9.59 1.41.59.51 0 1.02-.2 1.41-.59l7.78-7.78 2.81-2.81c.8-.78.8-2.07 0-2.86zM5.41 20L4 18.59l7.72-7.72 1.47 1.35L5.41 20z\"/>\n",
              "  </svg>\n",
              "      </button>\n",
              "      \n",
              "  <style>\n",
              "    .colab-df-container {\n",
              "      display:flex;\n",
              "      flex-wrap:wrap;\n",
              "      gap: 12px;\n",
              "    }\n",
              "\n",
              "    .colab-df-convert {\n",
              "      background-color: #E8F0FE;\n",
              "      border: none;\n",
              "      border-radius: 50%;\n",
              "      cursor: pointer;\n",
              "      display: none;\n",
              "      fill: #1967D2;\n",
              "      height: 32px;\n",
              "      padding: 0 0 0 0;\n",
              "      width: 32px;\n",
              "    }\n",
              "\n",
              "    .colab-df-convert:hover {\n",
              "      background-color: #E2EBFA;\n",
              "      box-shadow: 0px 1px 2px rgba(60, 64, 67, 0.3), 0px 1px 3px 1px rgba(60, 64, 67, 0.15);\n",
              "      fill: #174EA6;\n",
              "    }\n",
              "\n",
              "    [theme=dark] .colab-df-convert {\n",
              "      background-color: #3B4455;\n",
              "      fill: #D2E3FC;\n",
              "    }\n",
              "\n",
              "    [theme=dark] .colab-df-convert:hover {\n",
              "      background-color: #434B5C;\n",
              "      box-shadow: 0px 1px 3px 1px rgba(0, 0, 0, 0.15);\n",
              "      filter: drop-shadow(0px 1px 2px rgba(0, 0, 0, 0.3));\n",
              "      fill: #FFFFFF;\n",
              "    }\n",
              "  </style>\n",
              "\n",
              "      <script>\n",
              "        const buttonEl =\n",
              "          document.querySelector('#df-361673d3-e435-4b5e-99ee-770a392b3959 button.colab-df-convert');\n",
              "        buttonEl.style.display =\n",
              "          google.colab.kernel.accessAllowed ? 'block' : 'none';\n",
              "\n",
              "        async function convertToInteractive(key) {\n",
              "          const element = document.querySelector('#df-361673d3-e435-4b5e-99ee-770a392b3959');\n",
              "          const dataTable =\n",
              "            await google.colab.kernel.invokeFunction('convertToInteractive',\n",
              "                                                     [key], {});\n",
              "          if (!dataTable) return;\n",
              "\n",
              "          const docLinkHtml = 'Like what you see? Visit the ' +\n",
              "            '<a target=\"_blank\" href=https://colab.research.google.com/notebooks/data_table.ipynb>data table notebook</a>'\n",
              "            + ' to learn more about interactive tables.';\n",
              "          element.innerHTML = '';\n",
              "          dataTable['output_type'] = 'display_data';\n",
              "          await google.colab.output.renderOutput(dataTable, element);\n",
              "          const docLink = document.createElement('div');\n",
              "          docLink.innerHTML = docLinkHtml;\n",
              "          element.appendChild(docLink);\n",
              "        }\n",
              "      </script>\n",
              "    </div>\n",
              "  </div>\n",
              "  "
            ]
          },
          "metadata": {},
          "execution_count": 28
        }
      ]
    },
    {
      "cell_type": "code",
      "metadata": {
        "id": "eZgRHj2q14E6",
        "outputId": "caeda8bb-b88f-426b-de07-1b1d7bf715d8",
        "colab": {
          "base_uri": "https://localhost:8080/",
          "height": 519
        }
      },
      "source": [
        "plot_confusion_matrix(y_test, y_pred_cnn, mods)"
      ],
      "execution_count": null,
      "outputs": [
        {
          "output_type": "display_data",
          "data": {
            "text/plain": [
              "<Figure size 640x480 with 2 Axes>"
            ],
            "image/png": "[encoded data removed]"
          },
          "metadata": {}
        }
      ]
    },
    {
      "cell_type": "code",
      "metadata": {
        "id": "EvjIRzOx7CIA"
      },
      "source": [
        "def train_once(size = 5000):\n",
        "  dr = 0.5\n",
        "  model = Sequential()\n",
        "  model.add(Reshape(out_shape, input_shape = in_shape))\n",
        "  model.add(ZeroPadding2D((0, 2), data_format = 'channels_first'))\n",
        "  model.add(Conv2D(256, (1, 3), padding = 'valid', activation = \"relu\", name=\"conv1\", kernel_initializer='glorot_uniform', data_format=\"channels_first\"))\n",
        "  model.add(Dropout(dr))\n",
        "  model.add(ZeroPadding2D((0,2), data_format = 'channels_first'))\n",
        "  model.add(Conv2D(80, (2, 3), activation=\"relu\", name=\"conv3\", padding=\"valid\", kernel_initializer=\"glorot_uniform\", data_format=\"channels_first\"))\n",
        "  model.add(Dropout(dr))\n",
        "  model.add(Flatten())   \n",
        "  model.add(Dense(256, activation=\"relu\", name=\"dense1\", kernel_initializer=\"he_normal\"))\n",
        "  model.add(Dropout(dr))\n",
        "  model.add(Dense(10, name=\"dense3\", kernel_initializer=\"he_normal\", activation = 'softmax'))\n",
        "  model.add(Reshape([len(mods)]))\n",
        "  model.compile(loss='categorical_crossentropy', optimizer='adam', metrics = ['accuracy'])\n",
        "  #model.summary()\n",
        "  model.fit(X_train[:size], y_train[:size], epochs = 100, batch_size = 1024, callbacks=[EarlyStopping(patience = 15, restore_best_weights = True)])\n",
        "  train_pred = model.evaluate(X_train[:size], y_train[:size])\n",
        "  test_pred = model.evaluate(X_test, y_test)\n",
        "  return traind_pred, test_pred\n",
        "  "
      ],
      "execution_count": null,
      "outputs": []
    },
    {
      "cell_type": "code",
      "metadata": {
        "id": "6aPXcW1X7C6R",
        "outputId": "0c299c00-4620-4def-babb-a5584647140c",
        "colab": {
          "base_uri": "https://localhost:8080/",
          "height": 336
        }
      },
      "source": [
        "list(range(5000, 100000, 5000))"
      ],
      "execution_count": null,
      "outputs": [
        {
          "output_type": "execute_result",
          "data": {
            "text/plain": [
              "[5000,\n",
              " 10000,\n",
              " 15000,\n",
              " 20000,\n",
              " 25000,\n",
              " 30000,\n",
              " 35000,\n",
              " 40000,\n",
              " 45000,\n",
              " 50000,\n",
              " 55000,\n",
              " 60000,\n",
              " 65000,\n",
              " 70000,\n",
              " 75000,\n",
              " 80000,\n",
              " 85000,\n",
              " 90000,\n",
              " 95000]"
            ]
          },
          "metadata": {
            "tags": []
          },
          "execution_count": 14
        }
      ]
    },
    {
      "cell_type": "code",
      "metadata": {
        "id": "TkfHNP91-35G"
      },
      "source": [
        "train_scores, test_scores = [], []\n",
        "rang = range(5000, 100000, 5000)\n",
        "for i in rang:\n",
        "  trn, tst = train_once(i)\n",
        "  train_scores.append(trn)\n",
        "  test_scores.append(tst)\n",
        "\n",
        "plt.imshow(rang, train_scores, 'ro--', rang, test_scores, 'bo--')"
      ],
      "execution_count": null,
      "outputs": []
    }
  ]
}