{
  "nbformat": 4,
  "nbformat_minor": 0,
  "metadata": {
    "colab": {
      "provenance": []
    },
    "language_info": {
      "codemirror_mode": {
        "name": "ipython",
        "version": 3
      },
      "file_extension": ".py",
      "mimetype": "text/x-python",
      "name": "python",
      "nbconvert_exporter": "python",
      "pygments_lexer": "ipython3",
      "version": "3.6.4"
    },
    "kernelspec": {
      "name": "python3",
      "display_name": "Python 3"
    },
    "gpuClass": "standard"
  },
  "cells": [
    {
      "cell_type": "code",
      "source": [
        "!pip install bz2file"
      ],
      "metadata": {
        "colab": {
          "base_uri": "https://localhost:8080/"
        },
        "id": "LEN5hKu3XNoc",
        "outputId": "0ad951df-35d6-4eec-b75d-e3457055987c"
      },
      "execution_count": 1,
      "outputs": [
        {
          "output_type": "stream",
          "name": "stdout",
          "text": [
            "Looking in indexes: https://pypi.org/simple, https://us-python.pkg.dev/colab-wheels/public/simple/\n",
            "Requirement already satisfied: bz2file in /usr/local/lib/python3.10/dist-packages (0.98)\n"
          ]
        }
      ]
    },
    {
      "cell_type": "code",
      "metadata": {
        "id": "FNYr1At6z_QP"
      },
      "source": [
        "from sklearn.preprocessing import LabelBinarizer as LB\n",
        "from sklearn.preprocessing import normalize \n",
        "from sklearn.metrics import confusion_matrix\n",
        "from sklearn.metrics import accuracy_score\n",
        "# --------------------\n",
        "from keras.layers.convolutional import Conv2D, ZeroPadding2D\n",
        "from keras.layers.core import Reshape, Flatten, Dropout\n",
        "from keras.callbacks import EarlyStopping\n",
        "from keras.models import Sequential\n",
        "from keras.models import load_model\n",
        "from keras.layers import Dense\n",
        "from keras import metrics\n",
        "# --------------------\n",
        "from pandas import DataFrame as df\n",
        "# --------------------\n",
        "import matplotlib.pyplot as plt\n",
        "import tensorflow as tf\n",
        "import numpy as np\n",
        "# --------------------\n",
        "import tarfile\n",
        "import pickle\n",
        "import random\n",
        "import keras\n",
        "import sys\n",
        "import gc\n",
        "import bz2file as bz2\n",
        "import pickle\n",
        "\n",
        "from keras.layers import Input,Lambda,Dense,Flatten,Conv2D,MaxPooling2D\n",
        "from keras.models import Model,Sequential\n",
        "from keras.applications.vgg16 import VGG16\n",
        "from keras.applications.vgg16 import preprocess_input\n",
        "from keras.preprocessing import image\n",
        "from keras.preprocessing.image import ImageDataGenerator\n",
        "\n",
        "from tensorflow.keras.optimizers import Adam\n",
        "from tensorflow.keras.losses import CategoricalCrossentropy\n",
        "from tensorflow.keras.metrics import Accuracy\n"
      ],
      "execution_count": 2,
      "outputs": []
    },
    {
      "cell_type": "code",
      "source": [
        "from google.colab import drive\n",
        "drive.mount('/content/drive')"
      ],
      "metadata": {
        "colab": {
          "base_uri": "https://localhost:8080/"
        },
        "id": "69y_Evf_WeBp",
        "outputId": "45e698d8-7bb8-40d3-b833-9470789a1410"
      },
      "execution_count": 3,
      "outputs": [
        {
          "output_type": "stream",
          "name": "stdout",
          "text": [
            "Drive already mounted at /content/drive; to attempt to forcibly remount, call drive.mount(\"/content/drive\", force_remount=True).\n"
          ]
        }
      ]
    },
    {
      "cell_type": "code",
      "metadata": {
        "id": "6wEh_j9A-36T",
        "outputId": "58fe515f-bb78-4312-83d8-c837cd3752a7",
        "colab": {
          "base_uri": "https://localhost:8080/"
        }
      },
      "source": [
        "\n",
        "!tar -xvf /content/drive/MyDrive/RML2016.10b.bz2 -C /content/drive/MyDrive/"
      ],
      "execution_count": null,
      "outputs": [
        {
          "output_type": "stream",
          "name": "stdout",
          "text": [
            "RML2016.10b.dat\n",
            "LICENSE.TXT\n"
          ]
        }
      ]
    },
    {
      "cell_type": "code",
      "metadata": {
        "id": "aAUjInDf0M4c"
      },
      "source": [
        "file = open(\"/content/drive/MyDrive/RML2016.10b.dat\",'rb')\n",
        "Xd = pickle.load(file, encoding = 'bytes')\n",
        "snrs, mods = map(lambda j: sorted(list(set(map(lambda x: x[j], Xd.keys())))), [1,0])\n",
        "X = [] \n",
        "lbl = []\n",
        "for mod in mods:\n",
        "    for snr in snrs:\n",
        "        X.append(Xd[(mod,snr)])\n",
        "        for i in range(Xd[(mod,snr)].shape[0]):  lbl.append((mod,snr))\n",
        "X = np.vstack(X)\n",
        "file.close()"
      ],
      "execution_count": 4,
      "outputs": []
    },
    {
      "cell_type": "markdown",
      "metadata": {
        "id": "0Q3EMKoJ-4v6"
      },
      "source": [
        "## Create Features Space"
      ]
    },
    {
      "cell_type": "code",
      "metadata": {
        "id": "JygL40Bo_iNV"
      },
      "source": [
        "features = {}"
      ],
      "execution_count": 5,
      "outputs": []
    },
    {
      "cell_type": "markdown",
      "metadata": {
        "id": "ek7kJ8xR_WOy"
      },
      "source": [
        "**Raw Time Feature**"
      ]
    },
    {
      "cell_type": "code",
      "metadata": {
        "id": "L0hE1Y_PP-QQ"
      },
      "source": [
        "features['raw']        = X[:,0], X[:,1]"
      ],
      "execution_count": 6,
      "outputs": []
    },
    {
      "cell_type": "markdown",
      "metadata": {
        "id": "pKkXenUh_Z9m"
      },
      "source": [
        "**First derivative in time**"
      ]
    },
    {
      "cell_type": "code",
      "metadata": {
        "id": "CiGPAY7s_OOe"
      },
      "source": [
        "features['derivative'] = normalize(np.gradient(X[:,0], axis = 1)), normalize(np.gradient(X[:,1], axis = 1))"
      ],
      "execution_count": 7,
      "outputs": []
    },
    {
      "cell_type": "markdown",
      "metadata": {
        "id": "wGyS6ZD7_ff2"
      },
      "source": [
        "**Integral in time**"
      ]
    },
    {
      "cell_type": "code",
      "metadata": {
        "id": "0Jc15J5r_OfX"
      },
      "source": [
        "features['integral']   = normalize(np.cumsum(X[:,0], axis = 1)), normalize(np.cumsum(X[:,1], axis = 1))"
      ],
      "execution_count": 8,
      "outputs": []
    },
    {
      "cell_type": "markdown",
      "metadata": {
        "id": "OvGETT-I_jAQ"
      },
      "source": [
        "**All Togetheer Feature Space**"
      ]
    },
    {
      "cell_type": "code",
      "metadata": {
        "id": "WDuvdmZo4CDR"
      },
      "source": [
        "def extract_features(*arguments):\n",
        "    \n",
        "    desired = ()            \n",
        "    for arg in arguments:\n",
        "        desired += features[arg]\n",
        "    \n",
        "    return np.stack(desired, axis = 1)"
      ],
      "execution_count": 9,
      "outputs": []
    },
    {
      "cell_type": "markdown",
      "metadata": {
        "id": "wfnBc-rxCyQZ"
      },
      "source": [
        "## Train and Test Data Split"
      ]
    },
    {
      "cell_type": "markdown",
      "metadata": {
        "id": "YlJR6RczgdWm"
      },
      "source": [
        "** features Choice **"
      ]
    },
    {
      "cell_type": "code",
      "metadata": {
        "id": "VYkv4lQuDR2F"
      },
      "source": [
        "data = extract_features('raw')\n",
        "labels = np.array(lbl)"
      ],
      "execution_count": 10,
      "outputs": []
    },
    {
      "cell_type": "code",
      "metadata": {
        "id": "e-oc9F5TKs4-"
      },
      "source": [
        "in_shape = data[0].shape\n",
        "out_shape = tuple([1]) + in_shape"
      ],
      "execution_count": 11,
      "outputs": []
    },
    {
      "cell_type": "markdown",
      "metadata": {
        "id": "wUZmyeIEglDy"
      },
      "source": [
        "** data shuffling & splitting **"
      ]
    },
    {
      "cell_type": "code",
      "metadata": {
        "id": "qtUPPE4KKs45"
      },
      "source": [
        "np.random.seed(10)\n",
        "\n",
        "n_examples = labels.shape[0]\n",
        "\n",
        "r = np.random.choice(range(n_examples), n_examples, replace = False)\n",
        "\n",
        "train_examples = r[:n_examples//2]\n",
        "test_examples =  r[n_examples//2:]"
      ],
      "execution_count": 12,
      "outputs": []
    },
    {
      "cell_type": "code",
      "metadata": {
        "id": "V-gyBJhwKs47"
      },
      "source": [
        "X_train = data[train_examples]\n",
        "X_test = data[test_examples]\n",
        "\n",
        "y_train = LB().fit_transform(labels[train_examples][:,0])\n",
        "y_test = LB().fit_transform(labels[test_examples][:,0])\n",
        "\n",
        "snr_train = labels[train_examples][:,1].astype(int)\n",
        "snr_test = labels[test_examples][:,1].astype(int)"
      ],
      "execution_count": 13,
      "outputs": []
    },
    {
      "cell_type": "markdown",
      "metadata": {
        "id": "wQ-_55WYBK84"
      },
      "source": [
        "## Model for CNN New\n"
      ]
    },
    {
      "cell_type": "code",
      "metadata": {
        "id": "PG7uZfW5BReR"
      },
      "source": [
        "model = Sequential()\n",
        "model.add(Dense(128, activation='relu', input_shape=in_shape))\n",
        "model.add(Dense(256, activation='relu'))\n",
        "model.add(Dense(128, activation='relu'))\n",
        "model.add(Dense(64, activation='relu'))\n",
        "model.add(Dense(32, activation='relu'))\n",
        "model.add(Dense(16, activation='relu'))\n",
        "model.add(Flatten())\n",
        "model.add(Dense(10, activation='softmax'))"
      ],
      "execution_count": 14,
      "outputs": []
    },
    {
      "cell_type": "code",
      "metadata": {
        "id": "dD6IMRuVDrNw",
        "outputId": "c92a0d1d-09eb-41ad-c25f-36751abe53df",
        "colab": {
          "base_uri": "https://localhost:8080/"
        }
      },
      "source": [
        "model.compile(optimizer = 'adam', loss = 'categorical_crossentropy',  metrics = ['accuracy'])\n",
        "model.summary()"
      ],
      "execution_count": 15,
      "outputs": [
        {
          "output_type": "stream",
          "name": "stdout",
          "text": [
            "Model: \"sequential\"\n",
            "_________________________________________________________________\n",
            " Layer (type)                Output Shape              Param #   \n",
            "=================================================================\n",
            " dense (Dense)               (None, 2, 128)            16512     \n",
            "                                                                 \n",
            " dense_1 (Dense)             (None, 2, 256)            33024     \n",
            "                                                                 \n",
            " dense_2 (Dense)             (None, 2, 128)            32896     \n",
            "                                                                 \n",
            " dense_3 (Dense)             (None, 2, 64)             8256      \n",
            "                                                                 \n",
            " dense_4 (Dense)             (None, 2, 32)             2080      \n",
            "                                                                 \n",
            " dense_5 (Dense)             (None, 2, 16)             528       \n",
            "                                                                 \n",
            " flatten (Flatten)           (None, 32)                0         \n",
            "                                                                 \n",
            " dense_6 (Dense)             (None, 10)                330       \n",
            "                                                                 \n",
            "=================================================================\n",
            "Total params: 93,626\n",
            "Trainable params: 93,626\n",
            "Non-trainable params: 0\n",
            "_________________________________________________________________\n"
          ]
        }
      ]
    },
    {
      "cell_type": "code",
      "metadata": {
        "id": "ypR5DdtwLse0",
        "outputId": "4c41db1a-49be-492b-cc8b-90fa294a0e5d",
        "colab": {
          "base_uri": "https://localhost:8080/"
        }
      },
      "source": [
        "model.fit(X_train, y_train, epochs = 150, validation_split = 0.05, batch_size = 2048, callbacks=[EarlyStopping(patience = 15, restore_best_weights = True)])"
      ],
      "execution_count": 16,
      "outputs": [
        {
          "output_type": "stream",
          "name": "stdout",
          "text": [
            "Epoch 1/150\n",
            "279/279 [==============================] - 21s 68ms/step - loss: 1.9617 - accuracy: 0.2298 - val_loss: 1.6982 - val_accuracy: 0.3221\n",
            "Epoch 2/150\n",
            "279/279 [==============================] - 20s 72ms/step - loss: 1.6110 - accuracy: 0.3448 - val_loss: 1.5281 - val_accuracy: 0.3700\n",
            "Epoch 3/150\n",
            "279/279 [==============================] - 20s 72ms/step - loss: 1.5299 - accuracy: 0.3740 - val_loss: 1.4987 - val_accuracy: 0.3887\n",
            "Epoch 4/150\n",
            "279/279 [==============================] - 18s 65ms/step - loss: 1.5060 - accuracy: 0.3852 - val_loss: 1.4984 - val_accuracy: 0.3889\n",
            "Epoch 5/150\n",
            "279/279 [==============================] - 20s 72ms/step - loss: 1.4938 - accuracy: 0.3905 - val_loss: 1.4725 - val_accuracy: 0.4013\n",
            "Epoch 6/150\n",
            "279/279 [==============================] - 19s 67ms/step - loss: 1.4812 - accuracy: 0.3954 - val_loss: 1.4646 - val_accuracy: 0.4030\n",
            "Epoch 7/150\n",
            "279/279 [==============================] - 18s 65ms/step - loss: 1.4722 - accuracy: 0.4000 - val_loss: 1.4567 - val_accuracy: 0.4087\n",
            "Epoch 8/150\n",
            "279/279 [==============================] - 18s 65ms/step - loss: 1.4669 - accuracy: 0.4034 - val_loss: 1.4511 - val_accuracy: 0.4100\n",
            "Epoch 9/150\n",
            "279/279 [==============================] - 19s 69ms/step - loss: 1.4589 - accuracy: 0.4064 - val_loss: 1.4446 - val_accuracy: 0.4160\n",
            "Epoch 10/150\n",
            "279/279 [==============================] - 19s 69ms/step - loss: 1.4550 - accuracy: 0.4087 - val_loss: 1.4487 - val_accuracy: 0.4114\n",
            "Epoch 11/150\n",
            "279/279 [==============================] - 18s 66ms/step - loss: 1.4494 - accuracy: 0.4105 - val_loss: 1.4443 - val_accuracy: 0.4122\n",
            "Epoch 12/150\n",
            "279/279 [==============================] - 18s 65ms/step - loss: 1.4467 - accuracy: 0.4116 - val_loss: 1.4344 - val_accuracy: 0.4143\n",
            "Epoch 13/150\n",
            "279/279 [==============================] - 19s 69ms/step - loss: 1.4420 - accuracy: 0.4134 - val_loss: 1.4318 - val_accuracy: 0.4192\n",
            "Epoch 14/150\n",
            "279/279 [==============================] - 19s 70ms/step - loss: 1.4369 - accuracy: 0.4161 - val_loss: 1.4310 - val_accuracy: 0.4183\n",
            "Epoch 15/150\n",
            "279/279 [==============================] - 18s 65ms/step - loss: 1.4341 - accuracy: 0.4167 - val_loss: 1.4303 - val_accuracy: 0.4179\n",
            "Epoch 16/150\n",
            "279/279 [==============================] - 18s 66ms/step - loss: 1.4287 - accuracy: 0.4182 - val_loss: 1.4254 - val_accuracy: 0.4168\n",
            "Epoch 17/150\n",
            "279/279 [==============================] - 19s 68ms/step - loss: 1.4288 - accuracy: 0.4185 - val_loss: 1.4219 - val_accuracy: 0.4215\n",
            "Epoch 18/150\n",
            "279/279 [==============================] - 20s 71ms/step - loss: 1.4233 - accuracy: 0.4203 - val_loss: 1.4341 - val_accuracy: 0.4127\n",
            "Epoch 19/150\n",
            "279/279 [==============================] - 18s 65ms/step - loss: 1.4208 - accuracy: 0.4208 - val_loss: 1.4184 - val_accuracy: 0.4214\n",
            "Epoch 20/150\n",
            "279/279 [==============================] - 18s 65ms/step - loss: 1.4177 - accuracy: 0.4227 - val_loss: 1.4201 - val_accuracy: 0.4214\n",
            "Epoch 21/150\n",
            "279/279 [==============================] - 19s 67ms/step - loss: 1.4155 - accuracy: 0.4241 - val_loss: 1.4102 - val_accuracy: 0.4244\n",
            "Epoch 22/150\n",
            "279/279 [==============================] - 20s 72ms/step - loss: 1.4119 - accuracy: 0.4251 - val_loss: 1.4103 - val_accuracy: 0.4245\n",
            "Epoch 23/150\n",
            "279/279 [==============================] - 18s 66ms/step - loss: 1.4096 - accuracy: 0.4259 - val_loss: 1.4238 - val_accuracy: 0.4229\n",
            "Epoch 24/150\n",
            "279/279 [==============================] - 18s 66ms/step - loss: 1.4094 - accuracy: 0.4258 - val_loss: 1.4129 - val_accuracy: 0.4251\n",
            "Epoch 25/150\n",
            "279/279 [==============================] - 19s 67ms/step - loss: 1.4071 - accuracy: 0.4263 - val_loss: 1.4085 - val_accuracy: 0.4239\n",
            "Epoch 26/150\n",
            "279/279 [==============================] - 20s 72ms/step - loss: 1.4036 - accuracy: 0.4278 - val_loss: 1.4056 - val_accuracy: 0.4276\n",
            "Epoch 27/150\n",
            "279/279 [==============================] - 18s 65ms/step - loss: 1.4023 - accuracy: 0.4282 - val_loss: 1.4117 - val_accuracy: 0.4231\n",
            "Epoch 28/150\n",
            "279/279 [==============================] - 18s 65ms/step - loss: 1.3999 - accuracy: 0.4288 - val_loss: 1.4053 - val_accuracy: 0.4288\n",
            "Epoch 29/150\n",
            "279/279 [==============================] - 18s 64ms/step - loss: 1.3984 - accuracy: 0.4299 - val_loss: 1.4036 - val_accuracy: 0.4304\n",
            "Epoch 30/150\n",
            "279/279 [==============================] - 19s 67ms/step - loss: 1.3953 - accuracy: 0.4309 - val_loss: 1.4003 - val_accuracy: 0.4288\n",
            "Epoch 31/150\n",
            "279/279 [==============================] - 18s 64ms/step - loss: 1.3925 - accuracy: 0.4320 - val_loss: 1.4020 - val_accuracy: 0.4309\n",
            "Epoch 32/150\n",
            "279/279 [==============================] - 18s 64ms/step - loss: 1.3907 - accuracy: 0.4320 - val_loss: 1.4009 - val_accuracy: 0.4288\n",
            "Epoch 33/150\n",
            "279/279 [==============================] - 20s 71ms/step - loss: 1.3890 - accuracy: 0.4330 - val_loss: 1.3958 - val_accuracy: 0.4312\n",
            "Epoch 34/150\n",
            "279/279 [==============================] - 18s 63ms/step - loss: 1.3859 - accuracy: 0.4343 - val_loss: 1.3932 - val_accuracy: 0.4332\n",
            "Epoch 35/150\n",
            "279/279 [==============================] - 18s 64ms/step - loss: 1.3830 - accuracy: 0.4356 - val_loss: 1.3937 - val_accuracy: 0.4332\n",
            "Epoch 36/150\n",
            "279/279 [==============================] - 20s 70ms/step - loss: 1.3813 - accuracy: 0.4361 - val_loss: 1.3932 - val_accuracy: 0.4316\n",
            "Epoch 37/150\n",
            "279/279 [==============================] - 18s 65ms/step - loss: 1.3766 - accuracy: 0.4387 - val_loss: 1.3999 - val_accuracy: 0.4309\n",
            "Epoch 38/150\n",
            "279/279 [==============================] - 18s 64ms/step - loss: 1.3758 - accuracy: 0.4390 - val_loss: 1.3882 - val_accuracy: 0.4369\n",
            "Epoch 39/150\n",
            "279/279 [==============================] - 19s 70ms/step - loss: 1.3704 - accuracy: 0.4414 - val_loss: 1.3817 - val_accuracy: 0.4374\n",
            "Epoch 40/150\n",
            "279/279 [==============================] - 18s 64ms/step - loss: 1.3686 - accuracy: 0.4423 - val_loss: 1.3778 - val_accuracy: 0.4377\n",
            "Epoch 41/150\n",
            "279/279 [==============================] - 18s 65ms/step - loss: 1.3637 - accuracy: 0.4445 - val_loss: 1.3985 - val_accuracy: 0.4337\n",
            "Epoch 42/150\n",
            "279/279 [==============================] - 20s 73ms/step - loss: 1.3625 - accuracy: 0.4448 - val_loss: 1.3761 - val_accuracy: 0.4416\n",
            "Epoch 43/150\n",
            "279/279 [==============================] - 18s 63ms/step - loss: 1.3562 - accuracy: 0.4482 - val_loss: 1.3683 - val_accuracy: 0.4448\n",
            "Epoch 44/150\n",
            "279/279 [==============================] - 18s 64ms/step - loss: 1.3531 - accuracy: 0.4493 - val_loss: 1.3649 - val_accuracy: 0.4492\n",
            "Epoch 45/150\n",
            "279/279 [==============================] - 19s 68ms/step - loss: 1.3477 - accuracy: 0.4513 - val_loss: 1.3648 - val_accuracy: 0.4467\n",
            "Epoch 46/150\n",
            "279/279 [==============================] - 18s 65ms/step - loss: 1.3407 - accuracy: 0.4544 - val_loss: 1.3515 - val_accuracy: 0.4537\n",
            "Epoch 47/150\n",
            "279/279 [==============================] - 18s 64ms/step - loss: 1.3322 - accuracy: 0.4575 - val_loss: 1.3527 - val_accuracy: 0.4510\n",
            "Epoch 48/150\n",
            "279/279 [==============================] - 18s 66ms/step - loss: 1.3244 - accuracy: 0.4601 - val_loss: 1.3405 - val_accuracy: 0.4572\n",
            "Epoch 49/150\n",
            "279/279 [==============================] - 21s 75ms/step - loss: 1.3166 - accuracy: 0.4626 - val_loss: 1.3529 - val_accuracy: 0.4475\n",
            "Epoch 50/150\n",
            "279/279 [==============================] - 20s 71ms/step - loss: 1.3134 - accuracy: 0.4637 - val_loss: 1.3324 - val_accuracy: 0.4570\n",
            "Epoch 51/150\n",
            "279/279 [==============================] - 21s 75ms/step - loss: 1.3058 - accuracy: 0.4663 - val_loss: 1.3276 - val_accuracy: 0.4592\n",
            "Epoch 52/150\n",
            "279/279 [==============================] - 18s 64ms/step - loss: 1.3008 - accuracy: 0.4676 - val_loss: 1.3202 - val_accuracy: 0.4614\n",
            "Epoch 53/150\n",
            "279/279 [==============================] - 18s 64ms/step - loss: 1.2950 - accuracy: 0.4699 - val_loss: 1.3178 - val_accuracy: 0.4625\n",
            "Epoch 54/150\n",
            "279/279 [==============================] - 20s 71ms/step - loss: 1.2902 - accuracy: 0.4718 - val_loss: 1.3190 - val_accuracy: 0.4630\n",
            "Epoch 55/150\n",
            "279/279 [==============================] - 18s 66ms/step - loss: 1.2865 - accuracy: 0.4725 - val_loss: 1.3179 - val_accuracy: 0.4651\n",
            "Epoch 56/150\n",
            "279/279 [==============================] - 18s 64ms/step - loss: 1.2831 - accuracy: 0.4739 - val_loss: 1.3103 - val_accuracy: 0.4634\n",
            "Epoch 57/150\n",
            "279/279 [==============================] - 20s 71ms/step - loss: 1.2792 - accuracy: 0.4750 - val_loss: 1.3027 - val_accuracy: 0.4669\n",
            "Epoch 58/150\n",
            "279/279 [==============================] - 18s 64ms/step - loss: 1.2756 - accuracy: 0.4762 - val_loss: 1.3032 - val_accuracy: 0.4703\n",
            "Epoch 59/150\n",
            "279/279 [==============================] - 18s 65ms/step - loss: 1.2720 - accuracy: 0.4773 - val_loss: 1.3169 - val_accuracy: 0.4635\n",
            "Epoch 60/150\n",
            "279/279 [==============================] - 19s 70ms/step - loss: 1.2680 - accuracy: 0.4790 - val_loss: 1.3033 - val_accuracy: 0.4702\n",
            "Epoch 61/150\n",
            "279/279 [==============================] - 18s 64ms/step - loss: 1.2668 - accuracy: 0.4789 - val_loss: 1.3004 - val_accuracy: 0.4691\n",
            "Epoch 62/150\n",
            "279/279 [==============================] - 19s 66ms/step - loss: 1.2607 - accuracy: 0.4813 - val_loss: 1.2954 - val_accuracy: 0.4715\n",
            "Epoch 63/150\n",
            "279/279 [==============================] - 21s 74ms/step - loss: 1.2599 - accuracy: 0.4815 - val_loss: 1.2973 - val_accuracy: 0.4716\n",
            "Epoch 64/150\n",
            "279/279 [==============================] - 19s 67ms/step - loss: 1.2563 - accuracy: 0.4831 - val_loss: 1.2963 - val_accuracy: 0.4704\n",
            "Epoch 65/150\n",
            "279/279 [==============================] - 18s 64ms/step - loss: 1.2528 - accuracy: 0.4839 - val_loss: 1.2903 - val_accuracy: 0.4729\n",
            "Epoch 66/150\n",
            "279/279 [==============================] - 20s 73ms/step - loss: 1.2514 - accuracy: 0.4844 - val_loss: 1.2925 - val_accuracy: 0.4714\n",
            "Epoch 67/150\n",
            "279/279 [==============================] - 19s 69ms/step - loss: 1.2467 - accuracy: 0.4862 - val_loss: 1.2925 - val_accuracy: 0.4753\n",
            "Epoch 68/150\n",
            "279/279 [==============================] - 20s 71ms/step - loss: 1.2460 - accuracy: 0.4868 - val_loss: 1.2854 - val_accuracy: 0.4714\n",
            "Epoch 69/150\n",
            "279/279 [==============================] - 20s 72ms/step - loss: 1.2412 - accuracy: 0.4883 - val_loss: 1.2920 - val_accuracy: 0.4732\n",
            "Epoch 70/150\n",
            "279/279 [==============================] - 19s 68ms/step - loss: 1.2411 - accuracy: 0.4881 - val_loss: 1.2815 - val_accuracy: 0.4744\n",
            "Epoch 71/150\n",
            "279/279 [==============================] - 21s 75ms/step - loss: 1.2375 - accuracy: 0.4894 - val_loss: 1.2818 - val_accuracy: 0.4764\n",
            "Epoch 72/150\n",
            "279/279 [==============================] - 19s 69ms/step - loss: 1.2358 - accuracy: 0.4907 - val_loss: 1.2742 - val_accuracy: 0.4749\n",
            "Epoch 73/150\n",
            "279/279 [==============================] - 20s 71ms/step - loss: 1.2332 - accuracy: 0.4908 - val_loss: 1.2773 - val_accuracy: 0.4755\n",
            "Epoch 74/150\n",
            "279/279 [==============================] - 20s 73ms/step - loss: 1.2304 - accuracy: 0.4919 - val_loss: 1.2746 - val_accuracy: 0.4782\n",
            "Epoch 75/150\n",
            "279/279 [==============================] - 19s 69ms/step - loss: 1.2291 - accuracy: 0.4922 - val_loss: 1.2699 - val_accuracy: 0.4791\n",
            "Epoch 76/150\n",
            "279/279 [==============================] - 21s 74ms/step - loss: 1.2267 - accuracy: 0.4934 - val_loss: 1.2660 - val_accuracy: 0.4801\n",
            "Epoch 77/150\n",
            "279/279 [==============================] - 19s 67ms/step - loss: 1.2248 - accuracy: 0.4940 - val_loss: 1.2652 - val_accuracy: 0.4788\n",
            "Epoch 78/150\n",
            "279/279 [==============================] - 19s 67ms/step - loss: 1.2237 - accuracy: 0.4941 - val_loss: 1.2626 - val_accuracy: 0.4805\n",
            "Epoch 79/150\n",
            "279/279 [==============================] - 20s 72ms/step - loss: 1.2219 - accuracy: 0.4951 - val_loss: 1.2656 - val_accuracy: 0.4796\n",
            "Epoch 80/150\n",
            "279/279 [==============================] - 18s 64ms/step - loss: 1.2184 - accuracy: 0.4964 - val_loss: 1.2644 - val_accuracy: 0.4794\n",
            "Epoch 81/150\n",
            "279/279 [==============================] - 19s 67ms/step - loss: 1.2187 - accuracy: 0.4968 - val_loss: 1.2620 - val_accuracy: 0.4814\n",
            "Epoch 82/150\n",
            "279/279 [==============================] - 21s 75ms/step - loss: 1.2149 - accuracy: 0.4979 - val_loss: 1.2577 - val_accuracy: 0.4834\n",
            "Epoch 83/150\n",
            "279/279 [==============================] - 19s 68ms/step - loss: 1.2125 - accuracy: 0.4985 - val_loss: 1.2653 - val_accuracy: 0.4819\n",
            "Epoch 84/150\n",
            "279/279 [==============================] - 19s 69ms/step - loss: 1.2104 - accuracy: 0.4991 - val_loss: 1.2584 - val_accuracy: 0.4864\n",
            "Epoch 85/150\n",
            "279/279 [==============================] - 19s 66ms/step - loss: 1.2094 - accuracy: 0.4993 - val_loss: 1.2709 - val_accuracy: 0.4809\n",
            "Epoch 86/150\n",
            "279/279 [==============================] - 18s 64ms/step - loss: 1.2083 - accuracy: 0.5006 - val_loss: 1.2588 - val_accuracy: 0.4850\n",
            "Epoch 87/150\n",
            "279/279 [==============================] - 18s 66ms/step - loss: 1.2063 - accuracy: 0.5012 - val_loss: 1.2768 - val_accuracy: 0.4796\n",
            "Epoch 88/150\n",
            "279/279 [==============================] - 19s 70ms/step - loss: 1.2064 - accuracy: 0.5012 - val_loss: 1.2572 - val_accuracy: 0.4826\n",
            "Epoch 89/150\n",
            "279/279 [==============================] - 18s 66ms/step - loss: 1.2041 - accuracy: 0.5019 - val_loss: 1.2536 - val_accuracy: 0.4818\n",
            "Epoch 90/150\n",
            "279/279 [==============================] - 18s 66ms/step - loss: 1.2044 - accuracy: 0.5018 - val_loss: 1.2555 - val_accuracy: 0.4860\n",
            "Epoch 91/150\n",
            "279/279 [==============================] - 19s 69ms/step - loss: 1.2004 - accuracy: 0.5033 - val_loss: 1.2589 - val_accuracy: 0.4856\n",
            "Epoch 92/150\n",
            "279/279 [==============================] - 18s 66ms/step - loss: 1.2015 - accuracy: 0.5025 - val_loss: 1.3301 - val_accuracy: 0.4626\n",
            "Epoch 93/150\n",
            "279/279 [==============================] - 20s 71ms/step - loss: 1.1977 - accuracy: 0.5042 - val_loss: 1.2713 - val_accuracy: 0.4821\n",
            "Epoch 94/150\n",
            "279/279 [==============================] - 19s 70ms/step - loss: 1.1980 - accuracy: 0.5043 - val_loss: 1.2708 - val_accuracy: 0.4810\n",
            "Epoch 95/150\n",
            "279/279 [==============================] - 18s 64ms/step - loss: 1.1963 - accuracy: 0.5050 - val_loss: 1.2579 - val_accuracy: 0.4833\n",
            "Epoch 96/150\n",
            "279/279 [==============================] - 19s 68ms/step - loss: 1.1943 - accuracy: 0.5058 - val_loss: 1.2487 - val_accuracy: 0.4872\n",
            "Epoch 97/150\n",
            "279/279 [==============================] - 19s 69ms/step - loss: 1.1926 - accuracy: 0.5061 - val_loss: 1.2536 - val_accuracy: 0.4868\n",
            "Epoch 98/150\n",
            "279/279 [==============================] - 18s 65ms/step - loss: 1.1910 - accuracy: 0.5073 - val_loss: 1.2513 - val_accuracy: 0.4833\n",
            "Epoch 99/150\n",
            "279/279 [==============================] - 21s 74ms/step - loss: 1.1905 - accuracy: 0.5074 - val_loss: 1.2454 - val_accuracy: 0.4899\n",
            "Epoch 100/150\n",
            "279/279 [==============================] - 19s 68ms/step - loss: 1.1902 - accuracy: 0.5076 - val_loss: 1.2512 - val_accuracy: 0.4866\n",
            "Epoch 101/150\n",
            "279/279 [==============================] - 18s 65ms/step - loss: 1.1902 - accuracy: 0.5077 - val_loss: 1.2482 - val_accuracy: 0.4885\n",
            "Epoch 102/150\n",
            "279/279 [==============================] - 19s 70ms/step - loss: 1.1865 - accuracy: 0.5090 - val_loss: 1.2497 - val_accuracy: 0.4893\n",
            "Epoch 103/150\n",
            "279/279 [==============================] - 18s 64ms/step - loss: 1.1869 - accuracy: 0.5092 - val_loss: 1.2467 - val_accuracy: 0.4882\n",
            "Epoch 104/150\n",
            "279/279 [==============================] - 18s 64ms/step - loss: 1.1836 - accuracy: 0.5098 - val_loss: 1.2518 - val_accuracy: 0.4890\n",
            "Epoch 105/150\n",
            "279/279 [==============================] - 19s 67ms/step - loss: 1.1839 - accuracy: 0.5096 - val_loss: 1.2563 - val_accuracy: 0.4856\n",
            "Epoch 106/150\n",
            "279/279 [==============================] - 19s 67ms/step - loss: 1.1823 - accuracy: 0.5108 - val_loss: 1.2510 - val_accuracy: 0.4902\n",
            "Epoch 107/150\n",
            "279/279 [==============================] - 18s 64ms/step - loss: 1.1810 - accuracy: 0.5112 - val_loss: 1.2610 - val_accuracy: 0.4846\n",
            "Epoch 108/150\n",
            "279/279 [==============================] - 18s 66ms/step - loss: 1.1811 - accuracy: 0.5109 - val_loss: 1.2539 - val_accuracy: 0.4890\n",
            "Epoch 109/150\n",
            "279/279 [==============================] - 19s 68ms/step - loss: 1.1799 - accuracy: 0.5110 - val_loss: 1.2439 - val_accuracy: 0.4906\n",
            "Epoch 110/150\n",
            "279/279 [==============================] - 18s 64ms/step - loss: 1.1810 - accuracy: 0.5110 - val_loss: 1.2426 - val_accuracy: 0.4922\n",
            "Epoch 111/150\n",
            "279/279 [==============================] - 18s 64ms/step - loss: 1.1769 - accuracy: 0.5123 - val_loss: 1.2419 - val_accuracy: 0.4922\n",
            "Epoch 112/150\n",
            "279/279 [==============================] - 20s 70ms/step - loss: 1.1786 - accuracy: 0.5120 - val_loss: 1.2527 - val_accuracy: 0.4884\n",
            "Epoch 113/150\n",
            "279/279 [==============================] - 18s 64ms/step - loss: 1.1752 - accuracy: 0.5134 - val_loss: 1.2417 - val_accuracy: 0.4870\n",
            "Epoch 114/150\n",
            "279/279 [==============================] - 18s 64ms/step - loss: 1.1744 - accuracy: 0.5134 - val_loss: 1.2434 - val_accuracy: 0.4883\n",
            "Epoch 115/150\n",
            "279/279 [==============================] - 20s 71ms/step - loss: 1.1753 - accuracy: 0.5135 - val_loss: 1.2464 - val_accuracy: 0.4924\n",
            "Epoch 116/150\n",
            "279/279 [==============================] - 18s 64ms/step - loss: 1.1730 - accuracy: 0.5144 - val_loss: 1.2428 - val_accuracy: 0.4913\n",
            "Epoch 117/150\n",
            "279/279 [==============================] - 18s 64ms/step - loss: 1.1723 - accuracy: 0.5141 - val_loss: 1.2527 - val_accuracy: 0.4896\n",
            "Epoch 118/150\n",
            "279/279 [==============================] - 20s 71ms/step - loss: 1.1701 - accuracy: 0.5153 - val_loss: 1.2421 - val_accuracy: 0.4927\n",
            "Epoch 119/150\n",
            "279/279 [==============================] - 18s 64ms/step - loss: 1.1698 - accuracy: 0.5153 - val_loss: 1.2580 - val_accuracy: 0.4887\n",
            "Epoch 120/150\n",
            "279/279 [==============================] - 18s 65ms/step - loss: 1.1703 - accuracy: 0.5148 - val_loss: 1.2523 - val_accuracy: 0.4908\n",
            "Epoch 121/150\n",
            "279/279 [==============================] - 20s 70ms/step - loss: 1.1706 - accuracy: 0.5147 - val_loss: 1.2420 - val_accuracy: 0.4912\n",
            "Epoch 122/150\n",
            "279/279 [==============================] - 18s 64ms/step - loss: 1.1656 - accuracy: 0.5171 - val_loss: 1.2422 - val_accuracy: 0.4915\n",
            "Epoch 123/150\n",
            "279/279 [==============================] - 18s 64ms/step - loss: 1.1647 - accuracy: 0.5171 - val_loss: 1.2415 - val_accuracy: 0.4941\n",
            "Epoch 124/150\n",
            "279/279 [==============================] - 19s 68ms/step - loss: 1.1652 - accuracy: 0.5167 - val_loss: 1.2453 - val_accuracy: 0.4897\n",
            "Epoch 125/150\n",
            "279/279 [==============================] - 19s 67ms/step - loss: 1.1666 - accuracy: 0.5165 - val_loss: 1.2521 - val_accuracy: 0.4858\n",
            "Epoch 126/150\n",
            "279/279 [==============================] - 18s 65ms/step - loss: 1.1661 - accuracy: 0.5160 - val_loss: 1.2595 - val_accuracy: 0.4867\n",
            "Epoch 127/150\n",
            "279/279 [==============================] - 19s 67ms/step - loss: 1.1619 - accuracy: 0.5178 - val_loss: 1.2440 - val_accuracy: 0.4905\n",
            "Epoch 128/150\n",
            "279/279 [==============================] - 19s 68ms/step - loss: 1.1629 - accuracy: 0.5183 - val_loss: 1.2915 - val_accuracy: 0.4804\n",
            "Epoch 129/150\n",
            "279/279 [==============================] - 18s 65ms/step - loss: 1.1616 - accuracy: 0.5184 - val_loss: 1.2425 - val_accuracy: 0.4934\n",
            "Epoch 130/150\n",
            "279/279 [==============================] - 18s 65ms/step - loss: 1.1594 - accuracy: 0.5191 - val_loss: 1.2430 - val_accuracy: 0.4934\n",
            "Epoch 131/150\n",
            "279/279 [==============================] - 20s 70ms/step - loss: 1.1596 - accuracy: 0.5195 - val_loss: 1.2476 - val_accuracy: 0.4906\n",
            "Epoch 132/150\n",
            "279/279 [==============================] - 18s 65ms/step - loss: 1.1595 - accuracy: 0.5192 - val_loss: 1.2415 - val_accuracy: 0.4926\n",
            "Epoch 133/150\n",
            "279/279 [==============================] - 18s 65ms/step - loss: 1.1576 - accuracy: 0.5196 - val_loss: 1.2599 - val_accuracy: 0.4908\n",
            "Epoch 134/150\n",
            "279/279 [==============================] - 20s 72ms/step - loss: 1.1575 - accuracy: 0.5199 - val_loss: 1.2498 - val_accuracy: 0.4918\n",
            "Epoch 135/150\n",
            "279/279 [==============================] - 18s 65ms/step - loss: 1.1588 - accuracy: 0.5196 - val_loss: 1.2591 - val_accuracy: 0.4868\n",
            "Epoch 136/150\n",
            "279/279 [==============================] - 18s 65ms/step - loss: 1.1559 - accuracy: 0.5201 - val_loss: 1.2550 - val_accuracy: 0.4888\n",
            "Epoch 137/150\n",
            "279/279 [==============================] - 20s 71ms/step - loss: 1.1586 - accuracy: 0.5202 - val_loss: 1.2439 - val_accuracy: 0.4932\n",
            "Epoch 138/150\n",
            "279/279 [==============================] - 18s 65ms/step - loss: 1.1537 - accuracy: 0.5216 - val_loss: 1.2350 - val_accuracy: 0.4960\n",
            "Epoch 139/150\n",
            "279/279 [==============================] - 18s 64ms/step - loss: 1.1535 - accuracy: 0.5219 - val_loss: 1.2412 - val_accuracy: 0.4970\n",
            "Epoch 140/150\n",
            "279/279 [==============================] - 20s 72ms/step - loss: 1.1520 - accuracy: 0.5224 - val_loss: 1.2460 - val_accuracy: 0.4914\n",
            "Epoch 141/150\n",
            "279/279 [==============================] - 18s 65ms/step - loss: 1.1520 - accuracy: 0.5221 - val_loss: 1.2547 - val_accuracy: 0.4907\n",
            "Epoch 142/150\n",
            "279/279 [==============================] - 18s 66ms/step - loss: 1.1497 - accuracy: 0.5228 - val_loss: 1.2408 - val_accuracy: 0.4944\n",
            "Epoch 143/150\n",
            "279/279 [==============================] - 20s 73ms/step - loss: 1.1524 - accuracy: 0.5221 - val_loss: 1.2428 - val_accuracy: 0.4944\n",
            "Epoch 144/150\n",
            "279/279 [==============================] - 18s 66ms/step - loss: 1.1499 - accuracy: 0.5228 - val_loss: 1.2443 - val_accuracy: 0.4887\n",
            "Epoch 145/150\n",
            "279/279 [==============================] - 18s 66ms/step - loss: 1.1492 - accuracy: 0.5230 - val_loss: 1.2400 - val_accuracy: 0.4929\n",
            "Epoch 146/150\n",
            "279/279 [==============================] - 20s 72ms/step - loss: 1.1480 - accuracy: 0.5235 - val_loss: 1.2404 - val_accuracy: 0.4970\n",
            "Epoch 147/150\n",
            "279/279 [==============================] - 18s 66ms/step - loss: 1.1508 - accuracy: 0.5223 - val_loss: 1.2645 - val_accuracy: 0.4853\n",
            "Epoch 148/150\n",
            "279/279 [==============================] - 18s 66ms/step - loss: 1.1474 - accuracy: 0.5236 - val_loss: 1.2414 - val_accuracy: 0.4959\n",
            "Epoch 149/150\n",
            "279/279 [==============================] - 20s 72ms/step - loss: 1.1465 - accuracy: 0.5244 - val_loss: 1.2574 - val_accuracy: 0.4894\n",
            "Epoch 150/150\n",
            "279/279 [==============================] - 18s 66ms/step - loss: 1.1474 - accuracy: 0.5233 - val_loss: 1.2493 - val_accuracy: 0.4943\n"
          ]
        },
        {
          "output_type": "execute_result",
          "data": {
            "text/plain": [
              "<keras.callbacks.History at 0x7f2d7650eef0>"
            ]
          },
          "metadata": {},
          "execution_count": 16
        }
      ]
    },
    {
      "cell_type": "code",
      "metadata": {
        "id": "GHqxuT5ZkabZ"
      },
      "source": [
        "model.save('/content/drive/MyDrive/ann_new_version.h5')"
      ],
      "execution_count": 17,
      "outputs": []
    },
    {
      "cell_type": "markdown",
      "metadata": {
        "id": "U1HLIWliWXFI"
      },
      "source": [
        "## Evaluation"
      ]
    },
    {
      "cell_type": "code",
      "metadata": {
        "id": "Z7cLVWlrWapz"
      },
      "source": [
        "def plot_results(predicted_labels, true_labels, snrs):\n",
        "  \n",
        "  sorted_snrs = np.sort(np.unique(snrs))\n",
        "  \n",
        "  x_axis = []\n",
        "  y_axis = []\n",
        "  for snr in sorted_snrs:\n",
        "    idx = np.where(snrs == snr)\n",
        "    #print('snr =', snr, '-->', accuracy_score(np.argmax(true_labels[idx], axis = 1), np.argmax(predicted_labels[idx], axis = 1)))\n",
        "    x_axis.append(snr)\n",
        "    y_axis.append(accuracy_score(np.argmax(true_labels[idx], axis = 1), np.argmax(predicted_labels[idx], axis = 1)))\n",
        "  \n",
        "  plt.xlabel('SNR')\n",
        "  plt.ylabel('Accuracy')\n",
        "  plt.title('Classification Accuracy over different SNRs')\n",
        "  plt.plot(x_axis, np.array(y_axis) * 100, 'ro--')\n",
        "  plt.grid(True)"
      ],
      "execution_count": 18,
      "outputs": []
    },
    {
      "cell_type": "code",
      "metadata": {
        "id": "6a0lJiO3r_Vi"
      },
      "source": [
        "def print_results(predicted_labels, true_labels, snrs):\n",
        "  \n",
        "  sorted_snrs = np.sort(np.unique(snrs))\n",
        "  \n",
        "  x_axis = []\n",
        "  y_axis = []\n",
        "  for snr in sorted_snrs:\n",
        "    idx = np.where(snrs == snr)\n",
        "    #print('snr =', snr, '-->', accuracy_score(np.argmax(true_labels[idx], axis = 1), np.argmax(predicted_labels[idx], axis = 1)))\n",
        "    x_axis.append(snr)\n",
        "    y_axis.append(accuracy_score(np.argmax(true_labels[idx], axis = 1), np.argmax(predicted_labels[idx], axis = 1)))\n",
        "  \n",
        "  return df(data = np.array(y_axis).reshape(1, -1) * 100,  columns = sorted_snrs, index = ['accuracy']).round(2)"
      ],
      "execution_count": 19,
      "outputs": []
    },
    {
      "cell_type": "code",
      "metadata": {
        "id": "2FzcvVc6nmbC"
      },
      "source": [
        "def plot_confusion_matrix(y_true, y_pred, classes, cmap=plt.cm.Blues):\n",
        "  y_true, y_pred = np.argmax(y_true, axis = 1), np.argmax(y_pred, axis = 1)\n",
        "  cm = confusion_matrix(y_true, y_pred)\n",
        "  cm = cm.astype('float') / cm.sum(axis=1)[:, np.newaxis]\n",
        "  fig, ax = plt.subplots()\n",
        "  im = ax.imshow(cm, interpolation='nearest', cmap=cmap)\n",
        "  ax.figure.colorbar(im, ax=ax)\n",
        "  # We want to show all ticks...\n",
        "  ax.set(xticks=np.arange(cm.shape[1]),\n",
        "         yticks=np.arange(cm.shape[0]),\n",
        "         # ... and label them with the respective list entries\n",
        "         xticklabels=classes, yticklabels=classes,\n",
        "         title = 'Confusion Matrix',\n",
        "         ylabel = 'True label',\n",
        "         xlabel = 'Predicted label')\n",
        "\n",
        "  # Rotate the tick labels and set their alignment.\n",
        "  plt.setp(ax.get_xticklabels(), rotation=45, ha=\"right\",\n",
        "           rotation_mode=\"anchor\")"
      ],
      "execution_count": 20,
      "outputs": []
    },
    {
      "cell_type": "markdown",
      "metadata": {
        "id": "jKW_xp8w8qN1"
      },
      "source": [
        "** Fully Connected Neural Network Evaluation **"
      ]
    },
    {
      "cell_type": "code",
      "metadata": {
        "id": "S6xxG9VcrZfm"
      },
      "source": [
        "ann_model = keras.models.load_model('/content/drive/MyDrive/ann_new_version.h5')"
      ],
      "execution_count": 21,
      "outputs": []
    },
    {
      "cell_type": "code",
      "metadata": {
        "id": "4Ktfm-fk37VG",
        "colab": {
          "base_uri": "https://localhost:8080/"
        },
        "outputId": "904c4532-80f7-4a39-93e7-c8cd169e8f01"
      },
      "source": [
        "y_pred_ann = ann_model.predict(X_test)"
      ],
      "execution_count": 22,
      "outputs": [
        {
          "output_type": "stream",
          "name": "stdout",
          "text": [
            "18750/18750 [==============================] - 49s 3ms/step\n"
          ]
        }
      ]
    },
    {
      "cell_type": "code",
      "metadata": {
        "id": "LhjDFkCPW65X",
        "outputId": "b994029f-c0f7-4c10-d84a-9077dbfdd99a",
        "colab": {
          "base_uri": "https://localhost:8080/",
          "height": 472
        }
      },
      "source": [
        "plot_results(y_pred_ann, y_test, snr_test)"
      ],
      "execution_count": 23,
      "outputs": [
        {
          "output_type": "display_data",
          "data": {
            "text/plain": [
              "<Figure size 640x480 with 1 Axes>"
            ],
            "image/png": "[encoded data removed]"
          },
          "metadata": {}
        }
      ]
    },
    {
      "cell_type": "code",
      "metadata": {
        "id": "gioOOGHRsMfV",
        "outputId": "027a229b-feab-496e-facf-0299ff5ffb7e",
        "colab": {
          "base_uri": "https://localhost:8080/",
          "height": 81
        }
      },
      "source": [
        "print_results(y_pred_ann, y_test, snr_test)"
      ],
      "execution_count": 24,
      "outputs": [
        {
          "output_type": "execute_result",
          "data": {
            "text/plain": [
              "            -20    -18    -16    -14    -12   -10    -8     -6     -4     -2   \\\n",
              "accuracy  10.48  10.99  11.42  13.95  18.88  24.4  30.26  37.25  47.87  57.57   \n",
              "\n",
              "             0      2      4      6      8      10     12     14     16     18  \n",
              "accuracy  64.45  69.99  72.05  73.36  73.74  74.15  73.78  73.48  73.47  73.91  "
            ],
            "text/html": [
              "\n",
              "  <div id=\"df-e44f1cda-46d0-4084-9982-f3604ef87459\">\n",
              "    <div class=\"colab-df-container\">\n",
              "      <div>\n",
              "<style scoped>\n",
              "    .dataframe tbody tr th:only-of-type {\n",
              "        vertical-align: middle;\n",
              "    }\n",
              "\n",
              "    .dataframe tbody tr th {\n",
              "        vertical-align: top;\n",
              "    }\n",
              "\n",
              "    .dataframe thead th {\n",
              "        text-align: right;\n",
              "    }\n",
              "</style>\n",
              "<table border=\"1\" class=\"dataframe\">\n",
              "  <thead>\n",
              "    <tr style=\"text-align: right;\">\n",
              "      <th></th>\n",
              "      <th>-20</th>\n",
              "      <th>-18</th>\n",
              "      <th>-16</th>\n",
              "      <th>-14</th>\n",
              "      <th>-12</th>\n",
              "      <th>-10</th>\n",
              "      <th>-8</th>\n",
              "      <th>-6</th>\n",
              "      <th>-4</th>\n",
              "      <th>-2</th>\n",
              "      <th>0</th>\n",
              "      <th>2</th>\n",
              "      <th>4</th>\n",
              "      <th>6</th>\n",
              "      <th>8</th>\n",
              "      <th>10</th>\n",
              "      <th>12</th>\n",
              "      <th>14</th>\n",
              "      <th>16</th>\n",
              "      <th>18</th>\n",
              "    </tr>\n",
              "  </thead>\n",
              "  <tbody>\n",
              "    <tr>\n",
              "      <th>accuracy</th>\n",
              "      <td>10.48</td>\n",
              "      <td>10.99</td>\n",
              "      <td>11.42</td>\n",
              "      <td>13.95</td>\n",
              "      <td>18.88</td>\n",
              "      <td>24.4</td>\n",
              "      <td>30.26</td>\n",
              "      <td>37.25</td>\n",
              "      <td>47.87</td>\n",
              "      <td>57.57</td>\n",
              "      <td>64.45</td>\n",
              "      <td>69.99</td>\n",
              "      <td>72.05</td>\n",
              "      <td>73.36</td>\n",
              "      <td>73.74</td>\n",
              "      <td>74.15</td>\n",
              "      <td>73.78</td>\n",
              "      <td>73.48</td>\n",
              "      <td>73.47</td>\n",
              "      <td>73.91</td>\n",
              "    </tr>\n",
              "  </tbody>\n",
              "</table>\n",
              "</div>\n",
              "      <button class=\"colab-df-convert\" onclick=\"convertToInteractive('df-e44f1cda-46d0-4084-9982-f3604ef87459')\"\n",
              "              title=\"Convert this dataframe to an interactive table.\"\n",
              "              style=\"display:none;\">\n",
              "        \n",
              "  <svg xmlns=\"http://www.w3.org/2000/svg\" height=\"24px\"viewBox=\"0 0 24 24\"\n",
              "       width=\"24px\">\n",
              "    <path d=\"M0 0h24v24H0V0z\" fill=\"none\"/>\n",
              "    <path d=\"M18.56 5.44l.94 2.06.94-2.06 2.06-.94-2.06-.94-.94-2.06-.94 2.06-2.06.94zm-11 1L8.5 8.5l.94-2.06 2.06-.94-2.06-.94L8.5 2.5l-.94 2.06-2.06.94zm10 10l.94 2.06.94-2.06 2.06-.94-2.06-.94-.94-2.06-.94 2.06-2.06.94z\"/><path d=\"M17.41 7.96l-1.37-1.37c-.4-.4-.92-.59-1.43-.59-.52 0-1.04.2-1.43.59L10.3 9.45l-7.72 7.72c-.78.78-.78 2.05 0 2.83L4 21.41c.39.39.9.59 1.41.59.51 0 1.02-.2 1.41-.59l7.78-7.78 2.81-2.81c.8-.78.8-2.07 0-2.86zM5.41 20L4 18.59l7.72-7.72 1.47 1.35L5.41 20z\"/>\n",
              "  </svg>\n",
              "      </button>\n",
              "      \n",
              "  <style>\n",
              "    .colab-df-container {\n",
              "      display:flex;\n",
              "      flex-wrap:wrap;\n",
              "      gap: 12px;\n",
              "    }\n",
              "\n",
              "    .colab-df-convert {\n",
              "      background-color: #E8F0FE;\n",
              "      border: none;\n",
              "      border-radius: 50%;\n",
              "      cursor: pointer;\n",
              "      display: none;\n",
              "      fill: #1967D2;\n",
              "      height: 32px;\n",
              "      padding: 0 0 0 0;\n",
              "      width: 32px;\n",
              "    }\n",
              "\n",
              "    .colab-df-convert:hover {\n",
              "      background-color: #E2EBFA;\n",
              "      box-shadow: 0px 1px 2px rgba(60, 64, 67, 0.3), 0px 1px 3px 1px rgba(60, 64, 67, 0.15);\n",
              "      fill: #174EA6;\n",
              "    }\n",
              "\n",
              "    [theme=dark] .colab-df-convert {\n",
              "      background-color: #3B4455;\n",
              "      fill: #D2E3FC;\n",
              "    }\n",
              "\n",
              "    [theme=dark] .colab-df-convert:hover {\n",
              "      background-color: #434B5C;\n",
              "      box-shadow: 0px 1px 3px 1px rgba(0, 0, 0, 0.15);\n",
              "      filter: drop-shadow(0px 1px 2px rgba(0, 0, 0, 0.3));\n",
              "      fill: #FFFFFF;\n",
              "    }\n",
              "  </style>\n",
              "\n",
              "      <script>\n",
              "        const buttonEl =\n",
              "          document.querySelector('#df-e44f1cda-46d0-4084-9982-f3604ef87459 button.colab-df-convert');\n",
              "        buttonEl.style.display =\n",
              "          google.colab.kernel.accessAllowed ? 'block' : 'none';\n",
              "\n",
              "        async function convertToInteractive(key) {\n",
              "          const element = document.querySelector('#df-e44f1cda-46d0-4084-9982-f3604ef87459');\n",
              "          const dataTable =\n",
              "            await google.colab.kernel.invokeFunction('convertToInteractive',\n",
              "                                                     [key], {});\n",
              "          if (!dataTable) return;\n",
              "\n",
              "          const docLinkHtml = 'Like what you see? Visit the ' +\n",
              "            '<a target=\"_blank\" href=https://colab.research.google.com/notebooks/data_table.ipynb>data table notebook</a>'\n",
              "            + ' to learn more about interactive tables.';\n",
              "          element.innerHTML = '';\n",
              "          dataTable['output_type'] = 'display_data';\n",
              "          await google.colab.output.renderOutput(dataTable, element);\n",
              "          const docLink = document.createElement('div');\n",
              "          docLink.innerHTML = docLinkHtml;\n",
              "          element.appendChild(docLink);\n",
              "        }\n",
              "      </script>\n",
              "    </div>\n",
              "  </div>\n",
              "  "
            ]
          },
          "metadata": {},
          "execution_count": 24
        }
      ]
    },
    {
      "cell_type": "code",
      "source": [],
      "metadata": {
        "id": "2urWaYLviIwS"
      },
      "execution_count": null,
      "outputs": []
    }
  ]
}